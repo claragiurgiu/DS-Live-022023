{
 "cells": [
  {
   "cell_type": "markdown",
   "metadata": {
    "nbgrader": {
     "grade": false,
     "grade_id": "cell-3578a4f6a92df65d",
     "locked": true,
     "schema_version": 3,
     "solution": false,
     "task": false
    }
   },
   "source": [
    "# Linear Regression Checkpoint\n",
    "\n",
    "This checkpoint is designed to test your understanding of linear regression.\n",
    "\n",
    "Specifically, this will cover:\n",
    "\n",
    "* Creating simple and multiple linear regression models with StatsModels\n",
    "* Interpreting linear regression model metrics\n",
    "* Interpreting linear regression model parameters"
   ]
  },
  {
   "cell_type": "markdown",
   "metadata": {
    "nbgrader": {
     "grade": false,
     "grade_id": "cell-c20eb151e05b7a00",
     "locked": true,
     "schema_version": 3,
     "solution": false,
     "task": false
    }
   },
   "source": [
    "## Your Task: Build Linear Regression Models to Predict Home Prices\n",
    "\n",
    "### Data Understanding\n",
    "\n",
    "You will be using the Ames Housing dataset, modeling the `SalePrice` using these numeric features:\n",
    "\n",
    "* `GrLivArea`: Above grade living area (square feet)\n",
    "* `GarageArea`: Size of garage (square feet)\n",
    "* `LotArea`: Lot size (square feet)\n",
    "* `LotFrontage`: Length of street connected to property (feet)"
   ]
  },
  {
   "cell_type": "code",
   "execution_count": 1,
   "metadata": {
    "nbgrader": {
     "grade": false,
     "grade_id": "cell-0c2618a86ae14fdf",
     "locked": true,
     "schema_version": 3,
     "solution": false,
     "task": false
    }
   },
   "outputs": [
    {
     "data": {
      "text/html": [
       "<div>\n",
       "<style scoped>\n",
       "    .dataframe tbody tr th:only-of-type {\n",
       "        vertical-align: middle;\n",
       "    }\n",
       "\n",
       "    .dataframe tbody tr th {\n",
       "        vertical-align: top;\n",
       "    }\n",
       "\n",
       "    .dataframe thead th {\n",
       "        text-align: right;\n",
       "    }\n",
       "</style>\n",
       "<table border=\"1\" class=\"dataframe\">\n",
       "  <thead>\n",
       "    <tr style=\"text-align: right;\">\n",
       "      <th></th>\n",
       "      <th>SalePrice</th>\n",
       "      <th>GrLivArea</th>\n",
       "      <th>GarageArea</th>\n",
       "      <th>LotArea</th>\n",
       "      <th>LotFrontage</th>\n",
       "    </tr>\n",
       "    <tr>\n",
       "      <th>Id</th>\n",
       "      <th></th>\n",
       "      <th></th>\n",
       "      <th></th>\n",
       "      <th></th>\n",
       "      <th></th>\n",
       "    </tr>\n",
       "  </thead>\n",
       "  <tbody>\n",
       "    <tr>\n",
       "      <th>1</th>\n",
       "      <td>208500</td>\n",
       "      <td>1710</td>\n",
       "      <td>548</td>\n",
       "      <td>8450</td>\n",
       "      <td>65.0</td>\n",
       "    </tr>\n",
       "    <tr>\n",
       "      <th>2</th>\n",
       "      <td>181500</td>\n",
       "      <td>1262</td>\n",
       "      <td>460</td>\n",
       "      <td>9600</td>\n",
       "      <td>80.0</td>\n",
       "    </tr>\n",
       "    <tr>\n",
       "      <th>3</th>\n",
       "      <td>223500</td>\n",
       "      <td>1786</td>\n",
       "      <td>608</td>\n",
       "      <td>11250</td>\n",
       "      <td>68.0</td>\n",
       "    </tr>\n",
       "    <tr>\n",
       "      <th>4</th>\n",
       "      <td>140000</td>\n",
       "      <td>1717</td>\n",
       "      <td>642</td>\n",
       "      <td>9550</td>\n",
       "      <td>60.0</td>\n",
       "    </tr>\n",
       "    <tr>\n",
       "      <th>5</th>\n",
       "      <td>250000</td>\n",
       "      <td>2198</td>\n",
       "      <td>836</td>\n",
       "      <td>14260</td>\n",
       "      <td>84.0</td>\n",
       "    </tr>\n",
       "    <tr>\n",
       "      <th>...</th>\n",
       "      <td>...</td>\n",
       "      <td>...</td>\n",
       "      <td>...</td>\n",
       "      <td>...</td>\n",
       "      <td>...</td>\n",
       "    </tr>\n",
       "    <tr>\n",
       "      <th>1456</th>\n",
       "      <td>175000</td>\n",
       "      <td>1647</td>\n",
       "      <td>460</td>\n",
       "      <td>7917</td>\n",
       "      <td>62.0</td>\n",
       "    </tr>\n",
       "    <tr>\n",
       "      <th>1457</th>\n",
       "      <td>210000</td>\n",
       "      <td>2073</td>\n",
       "      <td>500</td>\n",
       "      <td>13175</td>\n",
       "      <td>85.0</td>\n",
       "    </tr>\n",
       "    <tr>\n",
       "      <th>1458</th>\n",
       "      <td>266500</td>\n",
       "      <td>2340</td>\n",
       "      <td>252</td>\n",
       "      <td>9042</td>\n",
       "      <td>66.0</td>\n",
       "    </tr>\n",
       "    <tr>\n",
       "      <th>1459</th>\n",
       "      <td>142125</td>\n",
       "      <td>1078</td>\n",
       "      <td>240</td>\n",
       "      <td>9717</td>\n",
       "      <td>68.0</td>\n",
       "    </tr>\n",
       "    <tr>\n",
       "      <th>1460</th>\n",
       "      <td>147500</td>\n",
       "      <td>1256</td>\n",
       "      <td>276</td>\n",
       "      <td>9937</td>\n",
       "      <td>75.0</td>\n",
       "    </tr>\n",
       "  </tbody>\n",
       "</table>\n",
       "<p>1201 rows × 5 columns</p>\n",
       "</div>"
      ],
      "text/plain": [
       "      SalePrice  GrLivArea  GarageArea  LotArea  LotFrontage\n",
       "Id                                                          \n",
       "1        208500       1710         548     8450         65.0\n",
       "2        181500       1262         460     9600         80.0\n",
       "3        223500       1786         608    11250         68.0\n",
       "4        140000       1717         642     9550         60.0\n",
       "5        250000       2198         836    14260         84.0\n",
       "...         ...        ...         ...      ...          ...\n",
       "1456     175000       1647         460     7917         62.0\n",
       "1457     210000       2073         500    13175         85.0\n",
       "1458     266500       2340         252     9042         66.0\n",
       "1459     142125       1078         240     9717         68.0\n",
       "1460     147500       1256         276     9937         75.0\n",
       "\n",
       "[1201 rows x 5 columns]"
      ]
     },
     "execution_count": 1,
     "metadata": {},
     "output_type": "execute_result"
    }
   ],
   "source": [
    "# Run this cell without changes\n",
    "\n",
    "import pandas as pd\n",
    "import warnings\n",
    "warnings.filterwarnings('ignore')\n",
    "\n",
    "df = pd.read_csv(\"ames.csv\", index_col=0)\n",
    "df = df[[\"SalePrice\", \"GrLivArea\", \"GarageArea\", \"LotArea\", \"LotFrontage\"]].copy()\n",
    "df.dropna(inplace=True)\n",
    "df"
   ]
  },
  {
   "cell_type": "markdown",
   "metadata": {
    "nbgrader": {
     "grade": false,
     "grade_id": "cell-b251b9dc9f044806",
     "locked": true,
     "schema_version": 3,
     "solution": false,
     "task": false
    }
   },
   "source": [
    "### Modeling\n",
    "\n",
    "You will apply an inferential modeling process using StatsModels. This means that you are trying to create the best model in terms of variance in `SalePrice` that is explained (i.e. R-Squared).\n",
    "\n",
    "You will build **two models — one simple linear regression model and one multiple linear regresssion model** — then you will interpret the model summaries.\n",
    "\n",
    "There are two relevant components of interpreting the model summaries: model **metrics** such as r-squared and p-values, which tell you how well your model is fit to the data, and model **parameters** (intercept and coefficients), which tell you how the model is using the feature(s) to predict the target.\n",
    "\n",
    "### Requirements"
   ]
  },
  {
   "cell_type": "markdown",
   "metadata": {
    "nbgrader": {
     "grade": false,
     "grade_id": "cell-b60866e4db6c8525",
     "locked": true,
     "schema_version": 3,
     "solution": false,
     "task": false
    }
   },
   "source": [
    "## 1. Build a Simple Linear Regression Using StatsModels\n",
    "\n",
    "Below, we use the `.corr()` method to find which features are most correlated with `SalePrice`:"
   ]
  },
  {
   "cell_type": "code",
   "execution_count": 2,
   "metadata": {
    "nbgrader": {
     "grade": false,
     "grade_id": "cell-a7f9739ece571cd3",
     "locked": true,
     "schema_version": 3,
     "solution": false,
     "task": false
    }
   },
   "outputs": [
    {
     "data": {
      "text/plain": [
       "SalePrice      1.000000\n",
       "GrLivArea      0.703557\n",
       "GarageArea     0.631761\n",
       "LotArea        0.311416\n",
       "LotFrontage    0.351799\n",
       "Name: SalePrice, dtype: float64"
      ]
     },
     "execution_count": 2,
     "metadata": {},
     "output_type": "execute_result"
    }
   ],
   "source": [
    "# Run this cell without changes\n",
    "df.corr()[\"SalePrice\"]"
   ]
  },
  {
   "cell_type": "markdown",
   "metadata": {
    "nbgrader": {
     "grade": false,
     "grade_id": "cell-ea72d0fe82eed8a9",
     "locked": true,
     "schema_version": 3,
     "solution": false,
     "task": false
    }
   },
   "source": [
    "The `GrLivArea` feature has the highest correlation with `SalePrice`, so we will use it to build a simple linear regression model.\n",
    "\n",
    "Use the OLS model ([documentation here](https://www.statsmodels.org/devel/generated/statsmodels.regression.linear_model.OLS.html)) with:\n",
    "\n",
    "- `SalePrice` as the endogenous (dependent) variable\n",
    "- `GrLivArea` as the exogenous (independent) variable\n",
    "\n",
    "Don't forget to include `sm.add_constant` to ensure that there is an intercept term.\n",
    "\n",
    "Fill in the appropriate values in the cell below."
   ]
  },
  {
   "cell_type": "code",
   "execution_count": 13,
   "metadata": {},
   "outputs": [],
   "source": [
    "# assigning variables\n",
    "import statsmodels.api as sm\n",
    "endog = df['SalePrice']\n",
    "exog = sm.add_constant(df['GrLivArea'])"
   ]
  },
  {
   "cell_type": "code",
   "execution_count": 14,
   "metadata": {},
   "outputs": [
    {
     "data": {
      "text/plain": [
       "Id\n",
       "1       208500\n",
       "2       181500\n",
       "3       223500\n",
       "4       140000\n",
       "5       250000\n",
       "         ...  \n",
       "1456    175000\n",
       "1457    210000\n",
       "1458    266500\n",
       "1459    142125\n",
       "1460    147500\n",
       "Name: SalePrice, Length: 1201, dtype: int64"
      ]
     },
     "execution_count": 14,
     "metadata": {},
     "output_type": "execute_result"
    }
   ],
   "source": [
    "endog"
   ]
  },
  {
   "cell_type": "code",
   "execution_count": 15,
   "metadata": {},
   "outputs": [
    {
     "data": {
      "text/html": [
       "<div>\n",
       "<style scoped>\n",
       "    .dataframe tbody tr th:only-of-type {\n",
       "        vertical-align: middle;\n",
       "    }\n",
       "\n",
       "    .dataframe tbody tr th {\n",
       "        vertical-align: top;\n",
       "    }\n",
       "\n",
       "    .dataframe thead th {\n",
       "        text-align: right;\n",
       "    }\n",
       "</style>\n",
       "<table border=\"1\" class=\"dataframe\">\n",
       "  <thead>\n",
       "    <tr style=\"text-align: right;\">\n",
       "      <th></th>\n",
       "      <th>const</th>\n",
       "      <th>GrLivArea</th>\n",
       "    </tr>\n",
       "    <tr>\n",
       "      <th>Id</th>\n",
       "      <th></th>\n",
       "      <th></th>\n",
       "    </tr>\n",
       "  </thead>\n",
       "  <tbody>\n",
       "    <tr>\n",
       "      <th>1</th>\n",
       "      <td>1.0</td>\n",
       "      <td>1710</td>\n",
       "    </tr>\n",
       "    <tr>\n",
       "      <th>2</th>\n",
       "      <td>1.0</td>\n",
       "      <td>1262</td>\n",
       "    </tr>\n",
       "    <tr>\n",
       "      <th>3</th>\n",
       "      <td>1.0</td>\n",
       "      <td>1786</td>\n",
       "    </tr>\n",
       "    <tr>\n",
       "      <th>4</th>\n",
       "      <td>1.0</td>\n",
       "      <td>1717</td>\n",
       "    </tr>\n",
       "    <tr>\n",
       "      <th>5</th>\n",
       "      <td>1.0</td>\n",
       "      <td>2198</td>\n",
       "    </tr>\n",
       "    <tr>\n",
       "      <th>...</th>\n",
       "      <td>...</td>\n",
       "      <td>...</td>\n",
       "    </tr>\n",
       "    <tr>\n",
       "      <th>1456</th>\n",
       "      <td>1.0</td>\n",
       "      <td>1647</td>\n",
       "    </tr>\n",
       "    <tr>\n",
       "      <th>1457</th>\n",
       "      <td>1.0</td>\n",
       "      <td>2073</td>\n",
       "    </tr>\n",
       "    <tr>\n",
       "      <th>1458</th>\n",
       "      <td>1.0</td>\n",
       "      <td>2340</td>\n",
       "    </tr>\n",
       "    <tr>\n",
       "      <th>1459</th>\n",
       "      <td>1.0</td>\n",
       "      <td>1078</td>\n",
       "    </tr>\n",
       "    <tr>\n",
       "      <th>1460</th>\n",
       "      <td>1.0</td>\n",
       "      <td>1256</td>\n",
       "    </tr>\n",
       "  </tbody>\n",
       "</table>\n",
       "<p>1201 rows × 2 columns</p>\n",
       "</div>"
      ],
      "text/plain": [
       "      const  GrLivArea\n",
       "Id                    \n",
       "1       1.0       1710\n",
       "2       1.0       1262\n",
       "3       1.0       1786\n",
       "4       1.0       1717\n",
       "5       1.0       2198\n",
       "...     ...        ...\n",
       "1456    1.0       1647\n",
       "1457    1.0       2073\n",
       "1458    1.0       2340\n",
       "1459    1.0       1078\n",
       "1460    1.0       1256\n",
       "\n",
       "[1201 rows x 2 columns]"
      ]
     },
     "execution_count": 15,
     "metadata": {},
     "output_type": "execute_result"
    }
   ],
   "source": [
    "exog"
   ]
  },
  {
   "cell_type": "code",
   "execution_count": 40,
   "metadata": {},
   "outputs": [],
   "source": [
    "\n",
    "import seaborn as sns"
   ]
  },
  {
   "cell_type": "code",
   "execution_count": 45,
   "metadata": {},
   "outputs": [
    {
     "data": {
      "image/png": "[encoded data removed]",
      "text/plain": [
       "<Figure size 432x288 with 1 Axes>"
      ]
     },
     "metadata": {
      "needs_background": "light"
     },
     "output_type": "display_data"
    }
   ],
   "source": [
    "\n",
    "## Scatter plotting for SalePrice and GrLivArea. \n",
    "sns.scatterplot( x = df['GrLivArea'], y = df['SalePrice']);"
   ]
  },
  {
   "cell_type": "code",
   "execution_count": 46,
   "metadata": {
    "nbgrader": {
     "grade": false,
     "grade_id": "cell-652f04adad36b12a",
     "locked": false,
     "schema_version": 3,
     "solution": true,
     "task": false
    }
   },
   "outputs": [
    {
     "name": "stdout",
     "output_type": "stream",
     "text": [
      "                            OLS Regression Results                            \n",
      "==============================================================================\n",
      "Dep. Variable:              SalePrice   R-squared:                       0.495\n",
      "Model:                            OLS   Adj. R-squared:                  0.495\n",
      "Method:                 Least Squares   F-statistic:                     1175.\n",
      "Date:                Thu, 23 Mar 2023   Prob (F-statistic):          4.39e-180\n",
      "Time:                        10:48:42   Log-Likelihood:                -14902.\n",
      "No. Observations:                1201   AIC:                         2.981e+04\n",
      "Df Residuals:                    1199   BIC:                         2.982e+04\n",
      "Df Model:                           1                                         \n",
      "Covariance Type:            nonrobust                                         \n",
      "==============================================================================\n",
      "                 coef    std err          t      P>|t|      [0.025      0.975]\n",
      "------------------------------------------------------------------------------\n",
      "const       1.347e+04   5171.332      2.605      0.009    3324.573    2.36e+04\n",
      "GrLivArea    110.7117      3.229     34.281      0.000     104.376     117.048\n",
      "==============================================================================\n",
      "Omnibus:                      197.122   Durbin-Watson:                   2.041\n",
      "Prob(Omnibus):                  0.000   Jarque-Bera (JB):             2702.386\n",
      "Skew:                           0.268   Prob(JB):                         0.00\n",
      "Kurtosis:                      10.329   Cond. No.                     4.84e+03\n",
      "==============================================================================\n",
      "\n",
      "Notes:\n",
      "[1] Standard Errors assume that the covariance matrix of the errors is correctly specified.\n",
      "[2] The condition number is large, 4.84e+03. This might indicate that there are\n",
      "strong multicollinearity or other numerical problems.\n"
     ]
    }
   ],
   "source": [
    "# CodeGrade step1\n",
    "\n",
    "import statsmodels.api as sm\n",
    "\n",
    "# Replace None with appropriate code\n",
    "simple_model = sm.OLS(endog=endog, exog=exog)\n",
    "\n",
    "simple_model_results = simple_model.fit()\n",
    "print(simple_model_results.summary())"
   ]
  },
  {
   "cell_type": "code",
   "execution_count": 18,
   "metadata": {},
   "outputs": [],
   "source": [
    "# RESUTLS\n",
    "# r_squared = 0.495, 49.5% of the variance is explained by this model\n",
    "# f_stat = 4.39e-180\n",
    "# p = <<<< 0.5\n",
    "# t_stat = 34.281"
   ]
  },
  {
   "cell_type": "code",
   "execution_count": 25,
   "metadata": {},
   "outputs": [],
   "source": [
    "# simple_model should be an OLS model\n",
    "assert type(simple_model) == sm.OLS\n",
    "\n",
    "# simple_model should have 1 feature (other than the constant)\n",
    "assert simple_model.df_model == 1"
   ]
  },
  {
   "cell_type": "markdown",
   "metadata": {
    "nbgrader": {
     "grade": false,
     "grade_id": "cell-6a16843c25dfd25c",
     "locked": true,
     "schema_version": 3,
     "solution": false,
     "task": false
    }
   },
   "source": [
    "## 2. Interpret Simple Linear Regression Model Metrics\n",
    "\n",
    "We want to know:\n",
    "\n",
    "1. How much of the variance is explained by this model? This is also known as the R-Squared. Fill in `r_squared` with this value — a floating point number between 0 and 1.\n",
    "2. Is the model statistically significant at $\\alpha = 0.05$? This is determined by comparing the probability of the f-statistic to the alpha. Fill in `model_is_significant` with this value — either `True` or `False`.\n",
    "\n",
    "You can either just look at the print-out above and fill in the values, or you can use attributes of `simple_model_results` ([documentation here](https://www.statsmodels.org/devel/generated/statsmodels.regression.linear_model.RegressionResults.html)). If you are getting stuck, it's usually easier to type the answer in rather than writing code to do it."
   ]
  },
  {
   "cell_type": "code",
   "execution_count": 31,
   "metadata": {},
   "outputs": [
    {
     "data": {
      "text/plain": [
       "const         2.604830\n",
       "GrLivArea    34.281475\n",
       "dtype: float64"
      ]
     },
     "execution_count": 31,
     "metadata": {},
     "output_type": "execute_result"
    }
   ],
   "source": [
    "simple_model_results.tvalues"
   ]
  },
  {
   "cell_type": "code",
   "execution_count": 32,
   "metadata": {},
   "outputs": [
    {
     "data": {
      "text/plain": [
       "4.386383022975568e-180"
      ]
     },
     "execution_count": 32,
     "metadata": {},
     "output_type": "execute_result"
    }
   ],
   "source": [
    "simple_model_results.f_pvalue"
   ]
  },
  {
   "cell_type": "code",
   "execution_count": 34,
   "metadata": {
    "nbgrader": {
     "grade": false,
     "grade_id": "cell-58db32b0f8b50f61",
     "locked": false,
     "schema_version": 3,
     "solution": true,
     "task": false
    }
   },
   "outputs": [],
   "source": [
    "# CodeGrade step2\n",
    "# Replace None with appropriate code\n",
    "r_squared = 0.495\n",
    "model_is_significant = True"
   ]
  },
  {
   "cell_type": "code",
   "execution_count": 35,
   "metadata": {},
   "outputs": [],
   "source": [
    "import numpy as np\n",
    "\n",
    "# r_squared should be a floating point value between 0 and 1\n",
    "assert 0 <= r_squared and r_squared <= 1\n",
    "assert type(r_squared) == float or type(r_squared) == np.float64\n",
    "\n",
    "# model_is_significant should be True or False\n",
    "assert model_is_significant == True or model_is_significant == False"
   ]
  },
  {
   "cell_type": "markdown",
   "metadata": {
    "nbgrader": {
     "grade": false,
     "grade_id": "cell-ce249a1b0434aa5b",
     "locked": true,
     "schema_version": 3,
     "solution": false,
     "task": false
    }
   },
   "source": [
    "## 3. Interpret Simple Linear Regression Parameters\n",
    "\n",
    "Now, we want to know what relationship the model has found between the feature and the target. Because this is a simple linear regression, it follows the format of $y = mx + b$ where $y$ is the `SalePrice`, $m$ is the slope of `GrLivArea`, $x$ is `GrLivArea`, and $b$ is the y-intercept (the value of $y$ when $x$ is 0).\n",
    "\n",
    "In the cell below, fill in appropriate values for `m` and `b`. Again, you can use the print-out above or use attributes of `simple_model_results`."
   ]
  },
  {
   "cell_type": "code",
   "execution_count": 48,
   "metadata": {},
   "outputs": [
    {
     "data": {
      "text/html": [
       "<table class=\"simpletable\">\n",
       "<tr>\n",
       "      <td></td>         <th>coef</th>     <th>std err</th>      <th>t</th>      <th>P>|t|</th>  <th>[0.025</th>    <th>0.975]</th>  \n",
       "</tr>\n",
       "<tr>\n",
       "  <th>const</th>     <td> 1.347e+04</td> <td> 5171.332</td> <td>    2.605</td> <td> 0.009</td> <td> 3324.573</td> <td> 2.36e+04</td>\n",
       "</tr>\n",
       "<tr>\n",
       "  <th>GrLivArea</th> <td>  110.7117</td> <td>    3.229</td> <td>   34.281</td> <td> 0.000</td> <td>  104.376</td> <td>  117.048</td>\n",
       "</tr>\n",
       "</table>"
      ],
      "text/plain": [
       "<class 'statsmodels.iolib.table.SimpleTable'>"
      ]
     },
     "execution_count": 48,
     "metadata": {},
     "output_type": "execute_result"
    }
   ],
   "source": [
    "simple_model_results.summary().tables[1]"
   ]
  },
  {
   "cell_type": "code",
   "execution_count": 49,
   "metadata": {
    "nbgrader": {
     "grade": false,
     "grade_id": "cell-e75986c4e6645412",
     "locked": false,
     "schema_version": 3,
     "solution": true,
     "task": false
    }
   },
   "outputs": [
    {
     "name": "stdout",
     "output_type": "stream",
     "text": [
      "\n",
      "Our simple linear regression model found a y-intercept\n",
      "of $13,470.0, then for every increase of 1 square foot\n",
      "above-ground living area, the price increases by $110.71 \n",
      "\n"
     ]
    }
   ],
   "source": [
    "# CodeGrade step3\n",
    "# Replace None with appropriate code\n",
    "\n",
    "# Slope \n",
    "m = 110.7117\n",
    "\n",
    "# Intercept\n",
    "b = 1.347e+04\n",
    "\n",
    "print(f\"\"\"\n",
    "Our simple linear regression model found a y-intercept\n",
    "of ${round(b, 2):,}, then for every increase of 1 square foot\n",
    "above-ground living area, the price increases by ${round(m, 2)} \n",
    "\"\"\")"
   ]
  },
  {
   "cell_type": "code",
   "execution_count": 69,
   "metadata": {},
   "outputs": [
    {
     "data": {
      "image/png": "[encoded data removed]",
      "text/plain": [
       "<Figure size 360x360 with 1 Axes>"
      ]
     },
     "metadata": {
      "needs_background": "light"
     },
     "output_type": "display_data"
    }
   ],
   "source": [
    "sns.lmplot(data=df, x=\"GrLivArea\", y=\"SalePrice\");"
   ]
  },
  {
   "cell_type": "code",
   "execution_count": 50,
   "metadata": {},
   "outputs": [],
   "source": [
    "from numbers import Number\n",
    "\n",
    "# m should be a number\n",
    "assert isinstance(m, Number)\n",
    "\n",
    "# b should be a number\n",
    "assert isinstance(b, Number)"
   ]
  },
  {
   "cell_type": "markdown",
   "metadata": {
    "nbgrader": {
     "grade": false,
     "grade_id": "cell-99898204e2a83336",
     "locked": true,
     "schema_version": 3,
     "solution": false,
     "task": false
    }
   },
   "source": [
    "## 4. Build a Multiple Regression Model Using StatsModels\n",
    "\n",
    "Now, build an OLS model that contains all of the columns present in `df`.\n",
    "\n",
    "Specifically, your model should have `SalePrice` as the target, and these columns as features:\n",
    "\n",
    "* `GrLivArea`\n",
    "* `GarageArea`\n",
    "* `LotArea`\n",
    "* `LotFrontage`"
   ]
  },
  {
   "cell_type": "code",
   "execution_count": 51,
   "metadata": {},
   "outputs": [],
   "source": [
    "endog = df['SalePrice']\n",
    "exog = df.drop('SalePrice', axis=1)"
   ]
  },
  {
   "cell_type": "code",
   "execution_count": 52,
   "metadata": {},
   "outputs": [
    {
     "data": {
      "text/plain": [
       "Id\n",
       "1       208500\n",
       "2       181500\n",
       "3       223500\n",
       "4       140000\n",
       "5       250000\n",
       "         ...  \n",
       "1456    175000\n",
       "1457    210000\n",
       "1458    266500\n",
       "1459    142125\n",
       "1460    147500\n",
       "Name: SalePrice, Length: 1201, dtype: int64"
      ]
     },
     "execution_count": 52,
     "metadata": {},
     "output_type": "execute_result"
    }
   ],
   "source": [
    "endog"
   ]
  },
  {
   "cell_type": "code",
   "execution_count": 53,
   "metadata": {},
   "outputs": [
    {
     "data": {
      "text/html": [
       "<div>\n",
       "<style scoped>\n",
       "    .dataframe tbody tr th:only-of-type {\n",
       "        vertical-align: middle;\n",
       "    }\n",
       "\n",
       "    .dataframe tbody tr th {\n",
       "        vertical-align: top;\n",
       "    }\n",
       "\n",
       "    .dataframe thead th {\n",
       "        text-align: right;\n",
       "    }\n",
       "</style>\n",
       "<table border=\"1\" class=\"dataframe\">\n",
       "  <thead>\n",
       "    <tr style=\"text-align: right;\">\n",
       "      <th></th>\n",
       "      <th>GrLivArea</th>\n",
       "      <th>GarageArea</th>\n",
       "      <th>LotArea</th>\n",
       "      <th>LotFrontage</th>\n",
       "    </tr>\n",
       "    <tr>\n",
       "      <th>Id</th>\n",
       "      <th></th>\n",
       "      <th></th>\n",
       "      <th></th>\n",
       "      <th></th>\n",
       "    </tr>\n",
       "  </thead>\n",
       "  <tbody>\n",
       "    <tr>\n",
       "      <th>1</th>\n",
       "      <td>1710</td>\n",
       "      <td>548</td>\n",
       "      <td>8450</td>\n",
       "      <td>65.0</td>\n",
       "    </tr>\n",
       "    <tr>\n",
       "      <th>2</th>\n",
       "      <td>1262</td>\n",
       "      <td>460</td>\n",
       "      <td>9600</td>\n",
       "      <td>80.0</td>\n",
       "    </tr>\n",
       "    <tr>\n",
       "      <th>3</th>\n",
       "      <td>1786</td>\n",
       "      <td>608</td>\n",
       "      <td>11250</td>\n",
       "      <td>68.0</td>\n",
       "    </tr>\n",
       "    <tr>\n",
       "      <th>4</th>\n",
       "      <td>1717</td>\n",
       "      <td>642</td>\n",
       "      <td>9550</td>\n",
       "      <td>60.0</td>\n",
       "    </tr>\n",
       "    <tr>\n",
       "      <th>5</th>\n",
       "      <td>2198</td>\n",
       "      <td>836</td>\n",
       "      <td>14260</td>\n",
       "      <td>84.0</td>\n",
       "    </tr>\n",
       "    <tr>\n",
       "      <th>...</th>\n",
       "      <td>...</td>\n",
       "      <td>...</td>\n",
       "      <td>...</td>\n",
       "      <td>...</td>\n",
       "    </tr>\n",
       "    <tr>\n",
       "      <th>1456</th>\n",
       "      <td>1647</td>\n",
       "      <td>460</td>\n",
       "      <td>7917</td>\n",
       "      <td>62.0</td>\n",
       "    </tr>\n",
       "    <tr>\n",
       "      <th>1457</th>\n",
       "      <td>2073</td>\n",
       "      <td>500</td>\n",
       "      <td>13175</td>\n",
       "      <td>85.0</td>\n",
       "    </tr>\n",
       "    <tr>\n",
       "      <th>1458</th>\n",
       "      <td>2340</td>\n",
       "      <td>252</td>\n",
       "      <td>9042</td>\n",
       "      <td>66.0</td>\n",
       "    </tr>\n",
       "    <tr>\n",
       "      <th>1459</th>\n",
       "      <td>1078</td>\n",
       "      <td>240</td>\n",
       "      <td>9717</td>\n",
       "      <td>68.0</td>\n",
       "    </tr>\n",
       "    <tr>\n",
       "      <th>1460</th>\n",
       "      <td>1256</td>\n",
       "      <td>276</td>\n",
       "      <td>9937</td>\n",
       "      <td>75.0</td>\n",
       "    </tr>\n",
       "  </tbody>\n",
       "</table>\n",
       "<p>1201 rows × 4 columns</p>\n",
       "</div>"
      ],
      "text/plain": [
       "      GrLivArea  GarageArea  LotArea  LotFrontage\n",
       "Id                                               \n",
       "1          1710         548     8450         65.0\n",
       "2          1262         460     9600         80.0\n",
       "3          1786         608    11250         68.0\n",
       "4          1717         642     9550         60.0\n",
       "5          2198         836    14260         84.0\n",
       "...         ...         ...      ...          ...\n",
       "1456       1647         460     7917         62.0\n",
       "1457       2073         500    13175         85.0\n",
       "1458       2340         252     9042         66.0\n",
       "1459       1078         240     9717         68.0\n",
       "1460       1256         276     9937         75.0\n",
       "\n",
       "[1201 rows x 4 columns]"
      ]
     },
     "execution_count": 53,
     "metadata": {},
     "output_type": "execute_result"
    }
   ],
   "source": [
    "exog"
   ]
  },
  {
   "cell_type": "code",
   "execution_count": 54,
   "metadata": {
    "nbgrader": {
     "grade": false,
     "grade_id": "cell-bd6e3935a342ed4b",
     "locked": false,
     "schema_version": 3,
     "solution": true,
     "task": false
    }
   },
   "outputs": [
    {
     "name": "stdout",
     "output_type": "stream",
     "text": [
      "                            OLS Regression Results                            \n",
      "==============================================================================\n",
      "Dep. Variable:              SalePrice   R-squared:                       0.614\n",
      "Model:                            OLS   Adj. R-squared:                  0.613\n",
      "Method:                 Least Squares   F-statistic:                     476.5\n",
      "Date:                Thu, 23 Mar 2023   Prob (F-statistic):          1.11e-245\n",
      "Time:                        10:58:33   Log-Likelihood:                -14740.\n",
      "No. Observations:                1201   AIC:                         2.949e+04\n",
      "Df Residuals:                    1196   BIC:                         2.952e+04\n",
      "Df Model:                           4                                         \n",
      "Covariance Type:            nonrobust                                         \n",
      "===============================================================================\n",
      "                  coef    std err          t      P>|t|      [0.025      0.975]\n",
      "-------------------------------------------------------------------------------\n",
      "const       -1.151e+04   5421.192     -2.124      0.034   -2.22e+04    -878.343\n",
      "GrLivArea      79.5785      3.390     23.473      0.000      72.927      86.230\n",
      "GarageArea    143.6119      7.833     18.334      0.000     128.244     158.980\n",
      "LotArea         0.7909      0.212      3.730      0.000       0.375       1.207\n",
      "LotFrontage   -52.6476     72.856     -0.723      0.470    -195.588      90.293\n",
      "==============================================================================\n",
      "Omnibus:                      262.972   Durbin-Watson:                   2.047\n",
      "Prob(Omnibus):                  0.000   Jarque-Bera (JB):             9251.057\n",
      "Skew:                          -0.120   Prob(JB):                         0.00\n",
      "Kurtosis:                      16.594   Cond. No.                     4.63e+04\n",
      "==============================================================================\n",
      "\n",
      "Notes:\n",
      "[1] Standard Errors assume that the covariance matrix of the errors is correctly specified.\n",
      "[2] The condition number is large, 4.63e+04. This might indicate that there are\n",
      "strong multicollinearity or other numerical problems.\n"
     ]
    }
   ],
   "source": [
    "# CodeGrade step4\n",
    "# Replace None with appropriate code\n",
    "\n",
    "multiple_model = sm.OLS(endog=endog, exog=sm.add_constant(exog))\n",
    "\n",
    "multiple_model_results = multiple_model.fit()\n",
    "print(multiple_model_results.summary())"
   ]
  },
  {
   "cell_type": "code",
   "execution_count": 55,
   "metadata": {},
   "outputs": [],
   "source": [
    "# multiple_model should be an OLS model\n",
    "assert type(multiple_model) == sm.OLS\n",
    "\n",
    "# multiple_model should have 4 features (other than the constant)\n",
    "assert multiple_model.df_model == 4"
   ]
  },
  {
   "cell_type": "markdown",
   "metadata": {
    "nbgrader": {
     "grade": false,
     "grade_id": "cell-21fd65acb59f4dc2",
     "locked": true,
     "schema_version": 3,
     "solution": false,
     "task": false
    }
   },
   "source": [
    "## 5. Interpret Multiple Regression Model Results\n",
    "\n",
    "Now we want to know: **is our multiple linear regression model a better fit than our simple linear regression model? We'll measure this in terms of percentage of variance explained (r-squared)**, where a higher r-squared indicates a better fit.\n",
    "\n",
    "Replace `second_model_is_better` with either `True` if this model is better, or `False` if the previous model was better (or the two models are exactly the same)."
   ]
  },
  {
   "cell_type": "code",
   "execution_count": null,
   "metadata": {},
   "outputs": [],
   "source": [
    "# r_squared = 0.614, this model explains 61.4% of the variance"
   ]
  },
  {
   "cell_type": "code",
   "execution_count": 59,
   "metadata": {
    "nbgrader": {
     "grade": false,
     "grade_id": "cell-f0746c6b33a4592d",
     "locked": false,
     "schema_version": 3,
     "solution": true,
     "task": false
    }
   },
   "outputs": [],
   "source": [
    "# CodeGrade step5.1\n",
    "# Replace None with appropriate code\n",
    "second_model_is_better = True"
   ]
  },
  {
   "cell_type": "code",
   "execution_count": 60,
   "metadata": {},
   "outputs": [],
   "source": [
    "# second_model_is_better should be True or False\n",
    "assert second_model_is_better == True or second_model_is_better == False"
   ]
  },
  {
   "cell_type": "markdown",
   "metadata": {
    "nbgrader": {
     "grade": false,
     "grade_id": "cell-0475c4a1b851ba21",
     "locked": true,
     "schema_version": 3,
     "solution": false,
     "task": false
    }
   },
   "source": [
    "One of the feature coefficients is not statistically significant. Which one is it?"
   ]
  },
  {
   "cell_type": "markdown",
   "metadata": {
    "nbgrader": {
     "grade": false,
     "grade_id": "cell-18ddedc7874e23e3",
     "locked": true,
     "schema_version": 3,
     "solution": false,
     "task": false
    }
   },
   "source": [
    "Replace `not_significant` with the name of the feature, which should be one of these four:\n",
    "\n",
    "* `GrLivArea`\n",
    "* `GarageArea`\n",
    "* `LotArea`\n",
    "* `LotFrontage`"
   ]
  },
  {
   "cell_type": "code",
   "execution_count": 61,
   "metadata": {},
   "outputs": [
    {
     "data": {
      "text/html": [
       "<table class=\"simpletable\">\n",
       "<tr>\n",
       "       <td></td>          <th>coef</th>     <th>std err</th>      <th>t</th>      <th>P>|t|</th>  <th>[0.025</th>    <th>0.975]</th>  \n",
       "</tr>\n",
       "<tr>\n",
       "  <th>const</th>       <td>-1.151e+04</td> <td> 5421.192</td> <td>   -2.124</td> <td> 0.034</td> <td>-2.22e+04</td> <td> -878.343</td>\n",
       "</tr>\n",
       "<tr>\n",
       "  <th>GrLivArea</th>   <td>   79.5785</td> <td>    3.390</td> <td>   23.473</td> <td> 0.000</td> <td>   72.927</td> <td>   86.230</td>\n",
       "</tr>\n",
       "<tr>\n",
       "  <th>GarageArea</th>  <td>  143.6119</td> <td>    7.833</td> <td>   18.334</td> <td> 0.000</td> <td>  128.244</td> <td>  158.980</td>\n",
       "</tr>\n",
       "<tr>\n",
       "  <th>LotArea</th>     <td>    0.7909</td> <td>    0.212</td> <td>    3.730</td> <td> 0.000</td> <td>    0.375</td> <td>    1.207</td>\n",
       "</tr>\n",
       "<tr>\n",
       "  <th>LotFrontage</th> <td>  -52.6476</td> <td>   72.856</td> <td>   -0.723</td> <td> 0.470</td> <td> -195.588</td> <td>   90.293</td>\n",
       "</tr>\n",
       "</table>"
      ],
      "text/plain": [
       "<class 'statsmodels.iolib.table.SimpleTable'>"
      ]
     },
     "execution_count": 61,
     "metadata": {},
     "output_type": "execute_result"
    }
   ],
   "source": [
    "multiple_model_results.summary().tables[1]"
   ]
  },
  {
   "cell_type": "code",
   "execution_count": 66,
   "metadata": {},
   "outputs": [],
   "source": [
    "# t_statistic for LotFrontage > alpha, not significant"
   ]
  },
  {
   "cell_type": "code",
   "execution_count": 64,
   "metadata": {
    "nbgrader": {
     "grade": false,
     "grade_id": "cell-9822a93057158dfd",
     "locked": false,
     "schema_version": 3,
     "solution": true,
     "task": false
    }
   },
   "outputs": [],
   "source": [
    "# CodeGrade step5.2\n",
    "# Replace None with appropriate code\n",
    "not_significant = 'LotFrontage'"
   ]
  },
  {
   "cell_type": "code",
   "execution_count": 65,
   "metadata": {},
   "outputs": [],
   "source": [
    "# not_significant should be a string\n",
    "assert type(not_significant) == str\n",
    "\n",
    "# It should be one of the features in df\n",
    "assert not_significant in df.columns"
   ]
  },
  {
   "cell_type": "code",
   "execution_count": null,
   "metadata": {},
   "outputs": [],
   "source": []
  }
 ],
 "metadata": {
  "celltoolbar": "Create Assignment",
  "kernelspec": {
   "display_name": "Python (learn-env)",
   "language": "python",
   "name": "learn-env"
  },
  "language_info": {
   "codemirror_mode": {
    "name": "ipython",
    "version": 3
   },
   "file_extension": ".py",
   "mimetype": "text/x-python",
   "name": "python",
   "nbconvert_exporter": "python",
   "pygments_lexer": "ipython3",
   "version": "3.8.5"
  }
 },
 "nbformat": 4,
 "nbformat_minor": 4
}
