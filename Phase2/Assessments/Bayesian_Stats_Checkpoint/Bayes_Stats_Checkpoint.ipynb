{
 "cells": [
  {
   "cell_type": "markdown",
   "metadata": {
    "nbgrader": {
     "grade": false,
     "grade_id": "cell-8718dd5f7f3772b0",
     "locked": true,
     "schema_version": 3,
     "solution": false,
     "task": false
    }
   },
   "source": [
    "## Your Task: Calculate Probabilities Using Bayes' Theorem\n",
    "\n",
    "### Problem Context\n",
    "\n",
    "Thomas is going to get a new puppy. There are two major decisions involved: what _location_ he gets the puppy from, and what _size_ the puppy is.\n",
    "\n",
    "The possible **locations** for getting the puppy are the **pet store** or the **pound**. These are mutually exclusive and collectively exhaustive probabilities, meaning that Thomas will only go to one location, and there is a 100% probability that he will go to one of these two locations. We'll represent those probabilities as $P(Pet Store)$ and $P(Pound)$ as needed.\n",
    "\n",
    "The possible puppy **sizes** are **small**, **medium**, or **large**. Again, these are mutually exclusive and collectively exhaustive probabilities, so a given puppy has only one size and there is a 100% probability that Thomas will get a puppy with one of these three sizes. We'll represent those probabilities as $P(Small)$, $P(Medium)$, and $P(Large)$ as needed.\n",
    "\n",
    "### Known Probabilities\n",
    "\n",
    "1. $P(Pet Store) = 0.2$\n",
    "   * The probability of Thomas going to the pet store is 20%\n",
    "2. $P(Small \\mid Pet Store) = 0.6$\n",
    "   * If he goes to the pet store, the probability of him getting a small puppy is 60%\n",
    "3. $P(Medium \\mid Pet Store) = 0.3$\n",
    "   * If he goes to the pet store, the probability of him getting a medium puppy is 30%\n",
    "4. $P(Large \\mid Pet Store) = 0.1$\n",
    "   * If he goes to the pet store, the probability of him getting a large puppy is 10%\n",
    "5. $P(Small \\mid Pound) = 0.1$\n",
    "   * If he goes to the pound, the probability of him getting a small puppy is 10%\n",
    "6. $P(Medium \\mid Pound) = 0.35$\n",
    "   * If he goes to the pound, the probability of him getting a medium puppy is 35%\n",
    "7. $P(Large \\mid Pound) = 0.55$\n",
    "   * If he goes to the pound, the probability of him getting a large puppy is 55%\n",
    "\n",
    "### Formula Reminders\n",
    "\n",
    "This is the formula for Bayes' theorem:\n",
    "\n",
    "$$P(A \\mid B) = \\dfrac{P(B \\mid A)P(A)}{P(B)}$$\n",
    "\n",
    "In other words, the probability of A given B is the probability of B given A times the probability of A, divided by the probability of B.\n",
    "\n",
    "Additionally, recall the law of total probability:\n",
    "\n",
    "$$P(A) = \\sum_i P(A \\mid B_i)P(B_i)$$\n",
    "\n",
    "In other words, the probability of A is the sum of all (probability of A given B times the probability of B) for all B.\n",
    "\n",
    "### Requirements\n",
    "\n",
    "#### 1. What is the probability of Thomas getting a small puppy?\n",
    "\n",
    "#### 2. Given that he got a large puppy, what is the probability that Thomas went to the pet store?"
   ]
  },
  {
   "cell_type": "markdown",
   "metadata": {
    "nbgrader": {
     "grade": false,
     "grade_id": "cell-f8f520a0a0b8652a",
     "locked": true,
     "schema_version": 3,
     "solution": false,
     "task": false
    }
   },
   "source": [
    "## 1. What is the probability of Thomas getting a small puppy?\n",
    "\n",
    "In other words, what is $P(Small)$?\n",
    "\n",
    "We recommend that you make as many intermediate variables as you need, to represent the known probabilities listed above and to plug them into the appropriate formula. It is also helpful to include comments to help you keep track of your logic.\n",
    "\n",
    "Assign your answer to `p_small`."
   ]
  },
  {
   "cell_type": "code",
   "execution_count": 2,
   "metadata": {},
   "outputs": [],
   "source": [
    "# 𝑃(𝑃𝑒𝑡𝑆𝑡𝑜𝑟𝑒)=0.2, prob of going to pet store\n",
    "p_store = 0.2\n",
    "# based on p_store, prob of going to pound\n",
    "p_pound = 0.8\n",
    "\n",
    "#𝑃(𝑆𝑚𝑎𝑙𝑙∣𝑃𝑒𝑡𝑆𝑡𝑜𝑟𝑒)=0.6, prob of getting a small puppy given he went to the store\n",
    "p_small_store = 0.6\n",
    "\n",
    "#𝑃(𝑀𝑒𝑑𝑖𝑢𝑚∣𝑃𝑒𝑡𝑆𝑡𝑜𝑟𝑒)=0.3, prob of getting a medium puppy given he went to the store\n",
    "p_med_store = 0.3\n",
    "\n",
    "#𝑃(𝐿𝑎𝑟𝑔𝑒∣𝑃𝑒𝑡𝑆𝑡𝑜𝑟𝑒)=0.1, prob of getting a large puppy given he went to the store \n",
    "p_large_store = 0.1\n",
    "\n",
    "#𝑃(𝑆𝑚𝑎𝑙𝑙∣𝑃𝑜𝑢𝑛𝑑)=0.1, prob of getting a small puppy given he went to the pound\n",
    "p_small_pound = 0.1\n",
    "\n",
    "#𝑃(𝑀𝑒𝑑𝑖𝑢𝑚∣𝑃𝑜𝑢𝑛𝑑)=0.35, prob of getting a medium puppy given he went to the pound\n",
    "p_med_pound = 0.35\n",
    "\n",
    "#𝑃(𝐿𝑎𝑟𝑔𝑒∣𝑃𝑜𝑢𝑛𝑑)=0.55, prob of getting a large puppy given he went to the pound\n",
    "p_large_pound = 0.55"
   ]
  },
  {
   "cell_type": "code",
   "execution_count": 1,
   "metadata": {
    "nbgrader": {
     "grade": false,
     "grade_id": "cell-26e7a79fe3b157f0",
     "locked": false,
     "schema_version": 3,
     "solution": true,
     "task": false
    }
   },
   "outputs": [
    {
     "ename": "SyntaxError",
     "evalue": "invalid syntax (<ipython-input-1-9fbf1ff4fb6b>, line 3)",
     "output_type": "error",
     "traceback": [
      "\u001b[1;36m  File \u001b[1;32m\"<ipython-input-1-9fbf1ff4fb6b>\"\u001b[1;36m, line \u001b[1;32m3\u001b[0m\n\u001b[1;33m    p_small =\u001b[0m\n\u001b[1;37m              ^\u001b[0m\n\u001b[1;31mSyntaxError\u001b[0m\u001b[1;31m:\u001b[0m invalid syntax\n"
     ]
    }
   ],
   "source": [
    "# CodeGrade step1\n",
    "# Replace None with appropriate code\n",
    "p_small = \n",
    "\n",
    "p_small\n",
    "\n",
    "print(f'Thomas has a {p_small*100:.1f}% probability of getting a small puppy.')"
   ]
  },
  {
   "cell_type": "code",
   "execution_count": 17,
   "metadata": {},
   "outputs": [],
   "source": [
    "# p_small should be a floating point probability between 0 and 1\n",
    "assert type(p_small) == float\n",
    "assert 0 <= p_small and p_small <= 1"
   ]
  },
  {
   "cell_type": "markdown",
   "metadata": {
    "nbgrader": {
     "grade": false,
     "grade_id": "cell-f861fb23efe118f1",
     "locked": true,
     "schema_version": 3,
     "solution": false,
     "task": false
    }
   },
   "source": [
    "## 2. Given that he got a large puppy, what is the probability that Thomas went to the pet store?\n",
    "\n",
    "In other words, what is $P(Pet Store \\mid Large)$?\n",
    "\n",
    "Hint: In order to calculate this answer, you will need to calculate $P(Large)$ in a similiar way to how you calculated $P(Small)$ above. Note that there are 3 sizes of puppy (small, medium, and large), so you can't just subtract $P(Small)$ from 1.\n",
    "\n",
    "Assign your answer to `p_pet_store_given_large`."
   ]
  },
  {
   "cell_type": "code",
   "execution_count": 2,
   "metadata": {},
   "outputs": [
    {
     "ename": "SyntaxError",
     "evalue": "invalid syntax (<ipython-input-2-94a3b356d859>, line 2)",
     "output_type": "error",
     "traceback": [
      "\u001b[1;36m  File \u001b[1;32m\"<ipython-input-2-94a3b356d859>\"\u001b[1;36m, line \u001b[1;32m2\u001b[0m\n\u001b[1;33m    p_large =\u001b[0m\n\u001b[1;37m              ^\u001b[0m\n\u001b[1;31mSyntaxError\u001b[0m\u001b[1;31m:\u001b[0m invalid syntax\n"
     ]
    }
   ],
   "source": [
    "# solve for p_large\n",
    "p_large = \n",
    "p_large\n",
    "print(f'Thomas has a {p_large*100:.1f}% probability of getting a large puppy.')"
   ]
  },
  {
   "cell_type": "code",
   "execution_count": 3,
   "metadata": {},
   "outputs": [
    {
     "ename": "SyntaxError",
     "evalue": "invalid syntax (<ipython-input-3-db2600ce3630>, line 2)",
     "output_type": "error",
     "traceback": [
      "\u001b[1;36m  File \u001b[1;32m\"<ipython-input-3-db2600ce3630>\"\u001b[1;36m, line \u001b[1;32m2\u001b[0m\n\u001b[1;33m    p_med =\u001b[0m\n\u001b[1;37m           ^\u001b[0m\n\u001b[1;31mSyntaxError\u001b[0m\u001b[1;31m:\u001b[0m invalid syntax\n"
     ]
    }
   ],
   "source": [
    "# just for fun\n",
    "p_med =\n",
    "print(f'Thomas has a {p_med*100:.1f}% probability of getting a medium puppy.')"
   ]
  },
  {
   "cell_type": "code",
   "execution_count": 4,
   "metadata": {
    "nbgrader": {
     "grade": false,
     "grade_id": "cell-b53fe8cfa2dfdaf6",
     "locked": false,
     "schema_version": 3,
     "solution": true,
     "task": false
    }
   },
   "outputs": [
    {
     "ename": "SyntaxError",
     "evalue": "invalid syntax (<ipython-input-4-33ab7de0e2ee>, line 3)",
     "output_type": "error",
     "traceback": [
      "\u001b[1;36m  File \u001b[1;32m\"<ipython-input-4-33ab7de0e2ee>\"\u001b[1;36m, line \u001b[1;32m3\u001b[0m\n\u001b[1;33m    p_pet_store_given_large =\u001b[0m\n\u001b[1;37m                              ^\u001b[0m\n\u001b[1;31mSyntaxError\u001b[0m\u001b[1;31m:\u001b[0m invalid syntax\n"
     ]
    }
   ],
   "source": [
    "# CodeGrade step2\n",
    "# Replace None with appropriate code\n",
    "p_pet_store_given_large = \n",
    "\n",
    "p_pet_store_given_large\n",
    "\n",
    "print(f'There is a {p_pet_store_given_large*100:.1f}% probability that Thomas went to the pet store given he got a large puppy.')"
   ]
  },
  {
   "cell_type": "code",
   "execution_count": 24,
   "metadata": {},
   "outputs": [],
   "source": [
    "# p_small should be a floating point probability between 0 and 1\n",
    "assert type(p_pet_store_given_large) == float\n",
    "assert 0 <= p_pet_store_given_large and p_pet_store_given_large <= 1"
   ]
  }
 ],
 "metadata": {
  "celltoolbar": "Create Assignment",
  "kernelspec": {
   "display_name": "Python (learn-env)",
   "language": "python",
   "name": "learn-env"
  },
  "language_info": {
   "codemirror_mode": {
    "name": "ipython",
    "version": 3
   },
   "file_extension": ".py",
   "mimetype": "text/x-python",
   "name": "python",
   "nbconvert_exporter": "python",
   "pygments_lexer": "ipython3",
   "version": "3.8.5"
  }
 },
 "nbformat": 4,
 "nbformat_minor": 4
}
