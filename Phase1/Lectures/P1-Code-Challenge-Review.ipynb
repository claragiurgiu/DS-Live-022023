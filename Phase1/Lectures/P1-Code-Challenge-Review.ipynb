{
 "cells": [
  {
   "cell_type": "markdown",
   "metadata": {},
   "source": [
    "# Phase 1 Code Challenge Review\n",
    "\n",
    "![let's do this](https://media.giphy.com/media/12WPxqBJAwOuIM/giphy.gif)"
   ]
  },
  {
   "cell_type": "markdown",
   "metadata": {},
   "source": [
    "The topics covered will be:\n",
    "\n",
    "  - [Interacting with Pandas dataframes](#dataframes)\n",
    "  - [Visualization](#viz)\n",
    "  - [Python Data Structures](#datastructures)\n",
    "    "
   ]
  },
  {
   "cell_type": "markdown",
   "metadata": {},
   "source": [
    "### Actual Challenge may have:\n",
    "- short answers\n",
    "- preoppulated code\n",
    "- topics included above + stats\n",
    "- nested dict\n",
    "- last q' on this review similar to q that wll be in challenge"
   ]
  },
  {
   "cell_type": "code",
   "execution_count": 2,
   "metadata": {},
   "outputs": [],
   "source": [
    "# My function to call on y'all\n",
    "# from src.call import call_on_students"
   ]
  },
  {
   "cell_type": "markdown",
   "metadata": {},
   "source": [
    "<a id='dataframes'></a>\n",
    "# Part 1: Interacting with Pandas DataFrames"
   ]
  },
  {
   "cell_type": "markdown",
   "metadata": {},
   "source": [
    "To practice working with dataframes, we will use some Facebook data taken from the UCI Machine Learning repository.\n",
    "\n",
    "Refer to this paper if you are interested in learning more. There is also a nice description of the features: http://www.math-evry.cnrs.fr/_media/members/aguilloux/enseignements/m1mint/moro2016.pdf\n",
    "\n"
   ]
  },
  {
   "cell_type": "code",
   "execution_count": 3,
   "metadata": {},
   "outputs": [],
   "source": [
    "# Before anything else - need to import pandas!\n",
    "import pandas as pd"
   ]
  },
  {
   "cell_type": "markdown",
   "metadata": {},
   "source": [
    "## Task 1: Read in the data"
   ]
  },
  {
   "cell_type": "code",
   "execution_count": 4,
   "metadata": {},
   "outputs": [
    {
     "name": "stdout",
     "output_type": "stream",
     "text": [
      "Austin_Animal_Center_Intakes-clean-year.csv\n",
      "Austin_Animal_Center_Intakes_022822.csv\n",
      "Austin_Animal_Center_Outcomes_022822.csv\n",
      "BankChurners.csv\n",
      "Datafiniti_Fast_Food.csv\n",
      "OpenFoodFacts.csv\n",
      "classic-rock-song-list.csv\n",
      "dataset_Facebook.csv\n",
      "ds_chars.csv\n",
      "flights.db\n",
      "heart.csv\n",
      "new_releases.json\n",
      "offset_newreleases.p\n",
      "plants.json\n",
      "preferences.csv\n",
      "states.csv\n"
     ]
    }
   ],
   "source": [
    "# Can explore the data folder within your notebook\n",
    "!ls data"
   ]
  },
  {
   "cell_type": "markdown",
   "metadata": {},
   "source": [
    "Read 'dataset_Facebook.csv' from the data foldeer into the notebook as a Pandas dataframe.\n",
    "\n",
    "Note: we'll need to set a different delimiter here - let's read the data in, then explain what that means."
   ]
  },
  {
   "cell_type": "code",
   "execution_count": 5,
   "metadata": {},
   "outputs": [],
   "source": [
    "# call_on_students(1)"
   ]
  },
  {
   "cell_type": "code",
   "execution_count": 6,
   "metadata": {},
   "outputs": [],
   "source": [
    "# Your code here\n",
    "facebook_df = pd.read_csv('data/dataset_facebook.csv', delimiter=\";\")"
   ]
  },
  {
   "cell_type": "code",
   "execution_count": 7,
   "metadata": {
    "scrolled": false
   },
   "outputs": [
    {
     "name": "stdout",
     "output_type": "stream",
     "text": [
      "<class 'pandas.core.frame.DataFrame'>\n",
      "RangeIndex: 500 entries, 0 to 499\n",
      "Data columns (total 19 columns):\n",
      " #   Column                                                               Non-Null Count  Dtype  \n",
      "---  ------                                                               --------------  -----  \n",
      " 0   Page total likes                                                     500 non-null    int64  \n",
      " 1   Type                                                                 500 non-null    object \n",
      " 2   Category                                                             500 non-null    int64  \n",
      " 3   Post Month                                                           500 non-null    int64  \n",
      " 4   Post Weekday                                                         500 non-null    int64  \n",
      " 5   Post Hour                                                            500 non-null    int64  \n",
      " 6   Paid                                                                 499 non-null    float64\n",
      " 7   Lifetime Post Total Reach                                            500 non-null    int64  \n",
      " 8   Lifetime Post Total Impressions                                      500 non-null    int64  \n",
      " 9   Lifetime Engaged Users                                               500 non-null    int64  \n",
      " 10  Lifetime Post Consumers                                              500 non-null    int64  \n",
      " 11  Lifetime Post Consumptions                                           500 non-null    int64  \n",
      " 12  Lifetime Post Impressions by people who have liked your Page         500 non-null    int64  \n",
      " 13  Lifetime Post reach by people who like your Page                     500 non-null    int64  \n",
      " 14  Lifetime People who have liked your Page and engaged with your post  500 non-null    int64  \n",
      " 15  comment                                                              500 non-null    int64  \n",
      " 16  like                                                                 499 non-null    float64\n",
      " 17  share                                                                496 non-null    float64\n",
      " 18  Total Interactions                                                   500 non-null    int64  \n",
      "dtypes: float64(3), int64(15), object(1)\n",
      "memory usage: 74.3+ KB\n"
     ]
    }
   ],
   "source": [
    "facebook_df.info()"
   ]
  },
  {
   "cell_type": "markdown",
   "metadata": {},
   "source": [
    "## Task 2: Explore the data"
   ]
  },
  {
   "cell_type": "markdown",
   "metadata": {},
   "source": [
    "### 2a: Look at the first five rows of the dataframe, then the last ten rows"
   ]
  },
  {
   "cell_type": "code",
   "execution_count": 8,
   "metadata": {},
   "outputs": [],
   "source": [
    "# call_on_students(1)"
   ]
  },
  {
   "cell_type": "code",
   "execution_count": 9,
   "metadata": {},
   "outputs": [
    {
     "data": {
      "text/html": [
       "<div>\n",
       "<style scoped>\n",
       "    .dataframe tbody tr th:only-of-type {\n",
       "        vertical-align: middle;\n",
       "    }\n",
       "\n",
       "    .dataframe tbody tr th {\n",
       "        vertical-align: top;\n",
       "    }\n",
       "\n",
       "    .dataframe thead th {\n",
       "        text-align: right;\n",
       "    }\n",
       "</style>\n",
       "<table border=\"1\" class=\"dataframe\">\n",
       "  <thead>\n",
       "    <tr style=\"text-align: right;\">\n",
       "      <th></th>\n",
       "      <th>Page total likes</th>\n",
       "      <th>Type</th>\n",
       "      <th>Category</th>\n",
       "      <th>Post Month</th>\n",
       "      <th>Post Weekday</th>\n",
       "      <th>Post Hour</th>\n",
       "      <th>Paid</th>\n",
       "      <th>Lifetime Post Total Reach</th>\n",
       "      <th>Lifetime Post Total Impressions</th>\n",
       "      <th>Lifetime Engaged Users</th>\n",
       "      <th>Lifetime Post Consumers</th>\n",
       "      <th>Lifetime Post Consumptions</th>\n",
       "      <th>Lifetime Post Impressions by people who have liked your Page</th>\n",
       "      <th>Lifetime Post reach by people who like your Page</th>\n",
       "      <th>Lifetime People who have liked your Page and engaged with your post</th>\n",
       "      <th>comment</th>\n",
       "      <th>like</th>\n",
       "      <th>share</th>\n",
       "      <th>Total Interactions</th>\n",
       "    </tr>\n",
       "  </thead>\n",
       "  <tbody>\n",
       "    <tr>\n",
       "      <th>0</th>\n",
       "      <td>139441</td>\n",
       "      <td>Photo</td>\n",
       "      <td>2</td>\n",
       "      <td>12</td>\n",
       "      <td>4</td>\n",
       "      <td>3</td>\n",
       "      <td>0.0</td>\n",
       "      <td>2752</td>\n",
       "      <td>5091</td>\n",
       "      <td>178</td>\n",
       "      <td>109</td>\n",
       "      <td>159</td>\n",
       "      <td>3078</td>\n",
       "      <td>1640</td>\n",
       "      <td>119</td>\n",
       "      <td>4</td>\n",
       "      <td>79.0</td>\n",
       "      <td>17.0</td>\n",
       "      <td>100</td>\n",
       "    </tr>\n",
       "    <tr>\n",
       "      <th>1</th>\n",
       "      <td>139441</td>\n",
       "      <td>Status</td>\n",
       "      <td>2</td>\n",
       "      <td>12</td>\n",
       "      <td>3</td>\n",
       "      <td>10</td>\n",
       "      <td>0.0</td>\n",
       "      <td>10460</td>\n",
       "      <td>19057</td>\n",
       "      <td>1457</td>\n",
       "      <td>1361</td>\n",
       "      <td>1674</td>\n",
       "      <td>11710</td>\n",
       "      <td>6112</td>\n",
       "      <td>1108</td>\n",
       "      <td>5</td>\n",
       "      <td>130.0</td>\n",
       "      <td>29.0</td>\n",
       "      <td>164</td>\n",
       "    </tr>\n",
       "    <tr>\n",
       "      <th>2</th>\n",
       "      <td>139441</td>\n",
       "      <td>Photo</td>\n",
       "      <td>3</td>\n",
       "      <td>12</td>\n",
       "      <td>3</td>\n",
       "      <td>3</td>\n",
       "      <td>0.0</td>\n",
       "      <td>2413</td>\n",
       "      <td>4373</td>\n",
       "      <td>177</td>\n",
       "      <td>113</td>\n",
       "      <td>154</td>\n",
       "      <td>2812</td>\n",
       "      <td>1503</td>\n",
       "      <td>132</td>\n",
       "      <td>0</td>\n",
       "      <td>66.0</td>\n",
       "      <td>14.0</td>\n",
       "      <td>80</td>\n",
       "    </tr>\n",
       "    <tr>\n",
       "      <th>3</th>\n",
       "      <td>139441</td>\n",
       "      <td>Photo</td>\n",
       "      <td>2</td>\n",
       "      <td>12</td>\n",
       "      <td>2</td>\n",
       "      <td>10</td>\n",
       "      <td>1.0</td>\n",
       "      <td>50128</td>\n",
       "      <td>87991</td>\n",
       "      <td>2211</td>\n",
       "      <td>790</td>\n",
       "      <td>1119</td>\n",
       "      <td>61027</td>\n",
       "      <td>32048</td>\n",
       "      <td>1386</td>\n",
       "      <td>58</td>\n",
       "      <td>1572.0</td>\n",
       "      <td>147.0</td>\n",
       "      <td>1777</td>\n",
       "    </tr>\n",
       "    <tr>\n",
       "      <th>4</th>\n",
       "      <td>139441</td>\n",
       "      <td>Photo</td>\n",
       "      <td>2</td>\n",
       "      <td>12</td>\n",
       "      <td>2</td>\n",
       "      <td>3</td>\n",
       "      <td>0.0</td>\n",
       "      <td>7244</td>\n",
       "      <td>13594</td>\n",
       "      <td>671</td>\n",
       "      <td>410</td>\n",
       "      <td>580</td>\n",
       "      <td>6228</td>\n",
       "      <td>3200</td>\n",
       "      <td>396</td>\n",
       "      <td>19</td>\n",
       "      <td>325.0</td>\n",
       "      <td>49.0</td>\n",
       "      <td>393</td>\n",
       "    </tr>\n",
       "  </tbody>\n",
       "</table>\n",
       "</div>"
      ],
      "text/plain": [
       "   Page total likes    Type  Category  Post Month  Post Weekday  Post Hour  \\\n",
       "0            139441   Photo         2          12             4          3   \n",
       "1            139441  Status         2          12             3         10   \n",
       "2            139441   Photo         3          12             3          3   \n",
       "3            139441   Photo         2          12             2         10   \n",
       "4            139441   Photo         2          12             2          3   \n",
       "\n",
       "   Paid  Lifetime Post Total Reach  Lifetime Post Total Impressions  \\\n",
       "0   0.0                       2752                             5091   \n",
       "1   0.0                      10460                            19057   \n",
       "2   0.0                       2413                             4373   \n",
       "3   1.0                      50128                            87991   \n",
       "4   0.0                       7244                            13594   \n",
       "\n",
       "   Lifetime Engaged Users  Lifetime Post Consumers  \\\n",
       "0                     178                      109   \n",
       "1                    1457                     1361   \n",
       "2                     177                      113   \n",
       "3                    2211                      790   \n",
       "4                     671                      410   \n",
       "\n",
       "   Lifetime Post Consumptions  \\\n",
       "0                         159   \n",
       "1                        1674   \n",
       "2                         154   \n",
       "3                        1119   \n",
       "4                         580   \n",
       "\n",
       "   Lifetime Post Impressions by people who have liked your Page  \\\n",
       "0                                               3078              \n",
       "1                                              11710              \n",
       "2                                               2812              \n",
       "3                                              61027              \n",
       "4                                               6228              \n",
       "\n",
       "   Lifetime Post reach by people who like your Page  \\\n",
       "0                                              1640   \n",
       "1                                              6112   \n",
       "2                                              1503   \n",
       "3                                             32048   \n",
       "4                                              3200   \n",
       "\n",
       "   Lifetime People who have liked your Page and engaged with your post  \\\n",
       "0                                                119                     \n",
       "1                                               1108                     \n",
       "2                                                132                     \n",
       "3                                               1386                     \n",
       "4                                                396                     \n",
       "\n",
       "   comment    like  share  Total Interactions  \n",
       "0        4    79.0   17.0                 100  \n",
       "1        5   130.0   29.0                 164  \n",
       "2        0    66.0   14.0                  80  \n",
       "3       58  1572.0  147.0                1777  \n",
       "4       19   325.0   49.0                 393  "
      ]
     },
     "execution_count": 9,
     "metadata": {},
     "output_type": "execute_result"
    }
   ],
   "source": [
    "# Your code here\n",
    "facebook_df.head()"
   ]
  },
  {
   "cell_type": "code",
   "execution_count": 10,
   "metadata": {},
   "outputs": [
    {
     "data": {
      "text/html": [
       "<div>\n",
       "<style scoped>\n",
       "    .dataframe tbody tr th:only-of-type {\n",
       "        vertical-align: middle;\n",
       "    }\n",
       "\n",
       "    .dataframe tbody tr th {\n",
       "        vertical-align: top;\n",
       "    }\n",
       "\n",
       "    .dataframe thead th {\n",
       "        text-align: right;\n",
       "    }\n",
       "</style>\n",
       "<table border=\"1\" class=\"dataframe\">\n",
       "  <thead>\n",
       "    <tr style=\"text-align: right;\">\n",
       "      <th></th>\n",
       "      <th>Page total likes</th>\n",
       "      <th>Type</th>\n",
       "      <th>Category</th>\n",
       "      <th>Post Month</th>\n",
       "      <th>Post Weekday</th>\n",
       "      <th>Post Hour</th>\n",
       "      <th>Paid</th>\n",
       "      <th>Lifetime Post Total Reach</th>\n",
       "      <th>Lifetime Post Total Impressions</th>\n",
       "      <th>Lifetime Engaged Users</th>\n",
       "      <th>Lifetime Post Consumers</th>\n",
       "      <th>Lifetime Post Consumptions</th>\n",
       "      <th>Lifetime Post Impressions by people who have liked your Page</th>\n",
       "      <th>Lifetime Post reach by people who like your Page</th>\n",
       "      <th>Lifetime People who have liked your Page and engaged with your post</th>\n",
       "      <th>comment</th>\n",
       "      <th>like</th>\n",
       "      <th>share</th>\n",
       "      <th>Total Interactions</th>\n",
       "    </tr>\n",
       "  </thead>\n",
       "  <tbody>\n",
       "    <tr>\n",
       "      <th>490</th>\n",
       "      <td>85979</td>\n",
       "      <td>Photo</td>\n",
       "      <td>3</td>\n",
       "      <td>1</td>\n",
       "      <td>6</td>\n",
       "      <td>11</td>\n",
       "      <td>0.0</td>\n",
       "      <td>5280</td>\n",
       "      <td>8703</td>\n",
       "      <td>951</td>\n",
       "      <td>911</td>\n",
       "      <td>1237</td>\n",
       "      <td>5757</td>\n",
       "      <td>3300</td>\n",
       "      <td>431</td>\n",
       "      <td>1</td>\n",
       "      <td>79.0</td>\n",
       "      <td>30.0</td>\n",
       "      <td>110</td>\n",
       "    </tr>\n",
       "    <tr>\n",
       "      <th>491</th>\n",
       "      <td>85979</td>\n",
       "      <td>Photo</td>\n",
       "      <td>3</td>\n",
       "      <td>1</td>\n",
       "      <td>6</td>\n",
       "      <td>3</td>\n",
       "      <td>1.0</td>\n",
       "      <td>6184</td>\n",
       "      <td>10228</td>\n",
       "      <td>956</td>\n",
       "      <td>901</td>\n",
       "      <td>1140</td>\n",
       "      <td>6085</td>\n",
       "      <td>3502</td>\n",
       "      <td>437</td>\n",
       "      <td>1</td>\n",
       "      <td>105.0</td>\n",
       "      <td>46.0</td>\n",
       "      <td>152</td>\n",
       "    </tr>\n",
       "    <tr>\n",
       "      <th>492</th>\n",
       "      <td>85979</td>\n",
       "      <td>Link</td>\n",
       "      <td>1</td>\n",
       "      <td>1</td>\n",
       "      <td>5</td>\n",
       "      <td>11</td>\n",
       "      <td>0.0</td>\n",
       "      <td>45920</td>\n",
       "      <td>5808</td>\n",
       "      <td>753</td>\n",
       "      <td>655</td>\n",
       "      <td>763</td>\n",
       "      <td>15766</td>\n",
       "      <td>10720</td>\n",
       "      <td>220</td>\n",
       "      <td>0</td>\n",
       "      <td>128.0</td>\n",
       "      <td>9.0</td>\n",
       "      <td>137</td>\n",
       "    </tr>\n",
       "    <tr>\n",
       "      <th>493</th>\n",
       "      <td>85093</td>\n",
       "      <td>Photo</td>\n",
       "      <td>3</td>\n",
       "      <td>1</td>\n",
       "      <td>1</td>\n",
       "      <td>2</td>\n",
       "      <td>0.0</td>\n",
       "      <td>8412</td>\n",
       "      <td>13960</td>\n",
       "      <td>1179</td>\n",
       "      <td>1111</td>\n",
       "      <td>1632</td>\n",
       "      <td>8632</td>\n",
       "      <td>5348</td>\n",
       "      <td>699</td>\n",
       "      <td>17</td>\n",
       "      <td>185.0</td>\n",
       "      <td>55.0</td>\n",
       "      <td>257</td>\n",
       "    </tr>\n",
       "    <tr>\n",
       "      <th>494</th>\n",
       "      <td>85093</td>\n",
       "      <td>Photo</td>\n",
       "      <td>3</td>\n",
       "      <td>1</td>\n",
       "      <td>7</td>\n",
       "      <td>10</td>\n",
       "      <td>0.0</td>\n",
       "      <td>5400</td>\n",
       "      <td>9218</td>\n",
       "      <td>810</td>\n",
       "      <td>756</td>\n",
       "      <td>1003</td>\n",
       "      <td>5654</td>\n",
       "      <td>3230</td>\n",
       "      <td>422</td>\n",
       "      <td>10</td>\n",
       "      <td>125.0</td>\n",
       "      <td>41.0</td>\n",
       "      <td>176</td>\n",
       "    </tr>\n",
       "    <tr>\n",
       "      <th>495</th>\n",
       "      <td>85093</td>\n",
       "      <td>Photo</td>\n",
       "      <td>3</td>\n",
       "      <td>1</td>\n",
       "      <td>7</td>\n",
       "      <td>2</td>\n",
       "      <td>0.0</td>\n",
       "      <td>4684</td>\n",
       "      <td>7536</td>\n",
       "      <td>733</td>\n",
       "      <td>708</td>\n",
       "      <td>985</td>\n",
       "      <td>4750</td>\n",
       "      <td>2876</td>\n",
       "      <td>392</td>\n",
       "      <td>5</td>\n",
       "      <td>53.0</td>\n",
       "      <td>26.0</td>\n",
       "      <td>84</td>\n",
       "    </tr>\n",
       "    <tr>\n",
       "      <th>496</th>\n",
       "      <td>81370</td>\n",
       "      <td>Photo</td>\n",
       "      <td>2</td>\n",
       "      <td>1</td>\n",
       "      <td>5</td>\n",
       "      <td>8</td>\n",
       "      <td>0.0</td>\n",
       "      <td>3480</td>\n",
       "      <td>6229</td>\n",
       "      <td>537</td>\n",
       "      <td>508</td>\n",
       "      <td>687</td>\n",
       "      <td>3961</td>\n",
       "      <td>2104</td>\n",
       "      <td>301</td>\n",
       "      <td>0</td>\n",
       "      <td>53.0</td>\n",
       "      <td>22.0</td>\n",
       "      <td>75</td>\n",
       "    </tr>\n",
       "    <tr>\n",
       "      <th>497</th>\n",
       "      <td>81370</td>\n",
       "      <td>Photo</td>\n",
       "      <td>1</td>\n",
       "      <td>1</td>\n",
       "      <td>5</td>\n",
       "      <td>2</td>\n",
       "      <td>0.0</td>\n",
       "      <td>3778</td>\n",
       "      <td>7216</td>\n",
       "      <td>625</td>\n",
       "      <td>572</td>\n",
       "      <td>795</td>\n",
       "      <td>4742</td>\n",
       "      <td>2388</td>\n",
       "      <td>363</td>\n",
       "      <td>4</td>\n",
       "      <td>93.0</td>\n",
       "      <td>18.0</td>\n",
       "      <td>115</td>\n",
       "    </tr>\n",
       "    <tr>\n",
       "      <th>498</th>\n",
       "      <td>81370</td>\n",
       "      <td>Photo</td>\n",
       "      <td>3</td>\n",
       "      <td>1</td>\n",
       "      <td>4</td>\n",
       "      <td>11</td>\n",
       "      <td>0.0</td>\n",
       "      <td>4156</td>\n",
       "      <td>7564</td>\n",
       "      <td>626</td>\n",
       "      <td>574</td>\n",
       "      <td>832</td>\n",
       "      <td>4534</td>\n",
       "      <td>2452</td>\n",
       "      <td>370</td>\n",
       "      <td>7</td>\n",
       "      <td>91.0</td>\n",
       "      <td>38.0</td>\n",
       "      <td>136</td>\n",
       "    </tr>\n",
       "    <tr>\n",
       "      <th>499</th>\n",
       "      <td>81370</td>\n",
       "      <td>Photo</td>\n",
       "      <td>2</td>\n",
       "      <td>1</td>\n",
       "      <td>4</td>\n",
       "      <td>4</td>\n",
       "      <td>NaN</td>\n",
       "      <td>4188</td>\n",
       "      <td>7292</td>\n",
       "      <td>564</td>\n",
       "      <td>524</td>\n",
       "      <td>743</td>\n",
       "      <td>3861</td>\n",
       "      <td>2200</td>\n",
       "      <td>316</td>\n",
       "      <td>0</td>\n",
       "      <td>91.0</td>\n",
       "      <td>28.0</td>\n",
       "      <td>119</td>\n",
       "    </tr>\n",
       "  </tbody>\n",
       "</table>\n",
       "</div>"
      ],
      "text/plain": [
       "     Page total likes   Type  Category  Post Month  Post Weekday  Post Hour  \\\n",
       "490             85979  Photo         3           1             6         11   \n",
       "491             85979  Photo         3           1             6          3   \n",
       "492             85979   Link         1           1             5         11   \n",
       "493             85093  Photo         3           1             1          2   \n",
       "494             85093  Photo         3           1             7         10   \n",
       "495             85093  Photo         3           1             7          2   \n",
       "496             81370  Photo         2           1             5          8   \n",
       "497             81370  Photo         1           1             5          2   \n",
       "498             81370  Photo         3           1             4         11   \n",
       "499             81370  Photo         2           1             4          4   \n",
       "\n",
       "     Paid  Lifetime Post Total Reach  Lifetime Post Total Impressions  \\\n",
       "490   0.0                       5280                             8703   \n",
       "491   1.0                       6184                            10228   \n",
       "492   0.0                      45920                             5808   \n",
       "493   0.0                       8412                            13960   \n",
       "494   0.0                       5400                             9218   \n",
       "495   0.0                       4684                             7536   \n",
       "496   0.0                       3480                             6229   \n",
       "497   0.0                       3778                             7216   \n",
       "498   0.0                       4156                             7564   \n",
       "499   NaN                       4188                             7292   \n",
       "\n",
       "     Lifetime Engaged Users  Lifetime Post Consumers  \\\n",
       "490                     951                      911   \n",
       "491                     956                      901   \n",
       "492                     753                      655   \n",
       "493                    1179                     1111   \n",
       "494                     810                      756   \n",
       "495                     733                      708   \n",
       "496                     537                      508   \n",
       "497                     625                      572   \n",
       "498                     626                      574   \n",
       "499                     564                      524   \n",
       "\n",
       "     Lifetime Post Consumptions  \\\n",
       "490                        1237   \n",
       "491                        1140   \n",
       "492                         763   \n",
       "493                        1632   \n",
       "494                        1003   \n",
       "495                         985   \n",
       "496                         687   \n",
       "497                         795   \n",
       "498                         832   \n",
       "499                         743   \n",
       "\n",
       "     Lifetime Post Impressions by people who have liked your Page  \\\n",
       "490                                               5757              \n",
       "491                                               6085              \n",
       "492                                              15766              \n",
       "493                                               8632              \n",
       "494                                               5654              \n",
       "495                                               4750              \n",
       "496                                               3961              \n",
       "497                                               4742              \n",
       "498                                               4534              \n",
       "499                                               3861              \n",
       "\n",
       "     Lifetime Post reach by people who like your Page  \\\n",
       "490                                              3300   \n",
       "491                                              3502   \n",
       "492                                             10720   \n",
       "493                                              5348   \n",
       "494                                              3230   \n",
       "495                                              2876   \n",
       "496                                              2104   \n",
       "497                                              2388   \n",
       "498                                              2452   \n",
       "499                                              2200   \n",
       "\n",
       "     Lifetime People who have liked your Page and engaged with your post  \\\n",
       "490                                                431                     \n",
       "491                                                437                     \n",
       "492                                                220                     \n",
       "493                                                699                     \n",
       "494                                                422                     \n",
       "495                                                392                     \n",
       "496                                                301                     \n",
       "497                                                363                     \n",
       "498                                                370                     \n",
       "499                                                316                     \n",
       "\n",
       "     comment   like  share  Total Interactions  \n",
       "490        1   79.0   30.0                 110  \n",
       "491        1  105.0   46.0                 152  \n",
       "492        0  128.0    9.0                 137  \n",
       "493       17  185.0   55.0                 257  \n",
       "494       10  125.0   41.0                 176  \n",
       "495        5   53.0   26.0                  84  \n",
       "496        0   53.0   22.0                  75  \n",
       "497        4   93.0   18.0                 115  \n",
       "498        7   91.0   38.0                 136  \n",
       "499        0   91.0   28.0                 119  "
      ]
     },
     "execution_count": 10,
     "metadata": {},
     "output_type": "execute_result"
    }
   ],
   "source": [
    "facebook_df.tail(10)"
   ]
  },
  {
   "cell_type": "markdown",
   "metadata": {},
   "source": [
    "### 2b: Look at the information for each column in the dataframe, then describe what you notice"
   ]
  },
  {
   "cell_type": "code",
   "execution_count": 11,
   "metadata": {},
   "outputs": [],
   "source": [
    "# call_on_students(1)"
   ]
  },
  {
   "cell_type": "code",
   "execution_count": 12,
   "metadata": {},
   "outputs": [
    {
     "data": {
      "text/plain": [
       "Index(['Page total likes', 'Type', 'Category', 'Post Month', 'Post Weekday',\n",
       "       'Post Hour', 'Paid', 'Lifetime Post Total Reach',\n",
       "       'Lifetime Post Total Impressions', 'Lifetime Engaged Users',\n",
       "       'Lifetime Post Consumers', 'Lifetime Post Consumptions',\n",
       "       'Lifetime Post Impressions by people who have liked your Page',\n",
       "       'Lifetime Post reach by people who like your Page',\n",
       "       'Lifetime People who have liked your Page and engaged with your post',\n",
       "       'comment', 'like', 'share', 'Total Interactions'],\n",
       "      dtype='object')"
      ]
     },
     "execution_count": 12,
     "metadata": {},
     "output_type": "execute_result"
    }
   ],
   "source": [
    "# Your code here\n",
    "facebook_df.columns"
   ]
  },
  {
   "cell_type": "code",
   "execution_count": 13,
   "metadata": {},
   "outputs": [
    {
     "data": {
      "text/plain": [
       "136393    18\n",
       "124940    17\n",
       "129600    15\n",
       "139441    14\n",
       "138895    14\n",
       "          ..\n",
       "92400      1\n",
       "93684      1\n",
       "91865      1\n",
       "93363      1\n",
       "91651      1\n",
       "Name: Page total likes, Length: 90, dtype: int64"
      ]
     },
     "execution_count": 13,
     "metadata": {},
     "output_type": "execute_result"
    }
   ],
   "source": [
    "facebook_df['Page total likes'].value_counts()"
   ]
  },
  {
   "cell_type": "markdown",
   "metadata": {},
   "source": [
    "What do you notice?\n",
    "\n",
    "- \n"
   ]
  },
  {
   "cell_type": "markdown",
   "metadata": {},
   "source": [
    "### 2c: Describe the dataframe's numeric columns, then describe what you notice\n",
    " "
   ]
  },
  {
   "cell_type": "code",
   "execution_count": 14,
   "metadata": {},
   "outputs": [],
   "source": [
    "# call_on_students(1)"
   ]
  },
  {
   "cell_type": "code",
   "execution_count": 15,
   "metadata": {},
   "outputs": [
    {
     "data": {
      "text/html": [
       "<div>\n",
       "<style scoped>\n",
       "    .dataframe tbody tr th:only-of-type {\n",
       "        vertical-align: middle;\n",
       "    }\n",
       "\n",
       "    .dataframe tbody tr th {\n",
       "        vertical-align: top;\n",
       "    }\n",
       "\n",
       "    .dataframe thead th {\n",
       "        text-align: right;\n",
       "    }\n",
       "</style>\n",
       "<table border=\"1\" class=\"dataframe\">\n",
       "  <thead>\n",
       "    <tr style=\"text-align: right;\">\n",
       "      <th></th>\n",
       "      <th>Page total likes</th>\n",
       "      <th>Category</th>\n",
       "      <th>Post Month</th>\n",
       "      <th>Post Weekday</th>\n",
       "      <th>Post Hour</th>\n",
       "      <th>Paid</th>\n",
       "      <th>Lifetime Post Total Reach</th>\n",
       "      <th>Lifetime Post Total Impressions</th>\n",
       "      <th>Lifetime Engaged Users</th>\n",
       "      <th>Lifetime Post Consumers</th>\n",
       "      <th>Lifetime Post Consumptions</th>\n",
       "      <th>Lifetime Post Impressions by people who have liked your Page</th>\n",
       "      <th>Lifetime Post reach by people who like your Page</th>\n",
       "      <th>Lifetime People who have liked your Page and engaged with your post</th>\n",
       "      <th>comment</th>\n",
       "      <th>like</th>\n",
       "      <th>share</th>\n",
       "      <th>Total Interactions</th>\n",
       "    </tr>\n",
       "  </thead>\n",
       "  <tbody>\n",
       "    <tr>\n",
       "      <th>count</th>\n",
       "      <td>500.000000</td>\n",
       "      <td>500.000000</td>\n",
       "      <td>500.000000</td>\n",
       "      <td>500.000000</td>\n",
       "      <td>500.000000</td>\n",
       "      <td>499.000000</td>\n",
       "      <td>500.00000</td>\n",
       "      <td>5.000000e+02</td>\n",
       "      <td>500.000000</td>\n",
       "      <td>500.000000</td>\n",
       "      <td>500.000000</td>\n",
       "      <td>5.000000e+02</td>\n",
       "      <td>500.000000</td>\n",
       "      <td>500.000000</td>\n",
       "      <td>500.00000</td>\n",
       "      <td>499.000000</td>\n",
       "      <td>496.000000</td>\n",
       "      <td>500.000000</td>\n",
       "    </tr>\n",
       "    <tr>\n",
       "      <th>mean</th>\n",
       "      <td>123194.176000</td>\n",
       "      <td>1.880000</td>\n",
       "      <td>7.038000</td>\n",
       "      <td>4.150000</td>\n",
       "      <td>7.840000</td>\n",
       "      <td>0.278557</td>\n",
       "      <td>13903.36000</td>\n",
       "      <td>2.958595e+04</td>\n",
       "      <td>920.344000</td>\n",
       "      <td>798.772000</td>\n",
       "      <td>1415.130000</td>\n",
       "      <td>1.676638e+04</td>\n",
       "      <td>6585.488000</td>\n",
       "      <td>609.986000</td>\n",
       "      <td>7.48200</td>\n",
       "      <td>177.945892</td>\n",
       "      <td>27.266129</td>\n",
       "      <td>212.120000</td>\n",
       "    </tr>\n",
       "    <tr>\n",
       "      <th>std</th>\n",
       "      <td>16272.813214</td>\n",
       "      <td>0.852675</td>\n",
       "      <td>3.307936</td>\n",
       "      <td>2.030701</td>\n",
       "      <td>4.368589</td>\n",
       "      <td>0.448739</td>\n",
       "      <td>22740.78789</td>\n",
       "      <td>7.680325e+04</td>\n",
       "      <td>985.016636</td>\n",
       "      <td>882.505013</td>\n",
       "      <td>2000.594118</td>\n",
       "      <td>5.979102e+04</td>\n",
       "      <td>7682.009405</td>\n",
       "      <td>612.725618</td>\n",
       "      <td>21.18091</td>\n",
       "      <td>323.398742</td>\n",
       "      <td>42.613292</td>\n",
       "      <td>380.233118</td>\n",
       "    </tr>\n",
       "    <tr>\n",
       "      <th>min</th>\n",
       "      <td>81370.000000</td>\n",
       "      <td>1.000000</td>\n",
       "      <td>1.000000</td>\n",
       "      <td>1.000000</td>\n",
       "      <td>1.000000</td>\n",
       "      <td>0.000000</td>\n",
       "      <td>238.00000</td>\n",
       "      <td>5.700000e+02</td>\n",
       "      <td>9.000000</td>\n",
       "      <td>9.000000</td>\n",
       "      <td>9.000000</td>\n",
       "      <td>5.670000e+02</td>\n",
       "      <td>236.000000</td>\n",
       "      <td>9.000000</td>\n",
       "      <td>0.00000</td>\n",
       "      <td>0.000000</td>\n",
       "      <td>0.000000</td>\n",
       "      <td>0.000000</td>\n",
       "    </tr>\n",
       "    <tr>\n",
       "      <th>25%</th>\n",
       "      <td>112676.000000</td>\n",
       "      <td>1.000000</td>\n",
       "      <td>4.000000</td>\n",
       "      <td>2.000000</td>\n",
       "      <td>3.000000</td>\n",
       "      <td>0.000000</td>\n",
       "      <td>3315.00000</td>\n",
       "      <td>5.694750e+03</td>\n",
       "      <td>393.750000</td>\n",
       "      <td>332.500000</td>\n",
       "      <td>509.250000</td>\n",
       "      <td>3.969750e+03</td>\n",
       "      <td>2181.500000</td>\n",
       "      <td>291.000000</td>\n",
       "      <td>1.00000</td>\n",
       "      <td>56.500000</td>\n",
       "      <td>10.000000</td>\n",
       "      <td>71.000000</td>\n",
       "    </tr>\n",
       "    <tr>\n",
       "      <th>50%</th>\n",
       "      <td>129600.000000</td>\n",
       "      <td>2.000000</td>\n",
       "      <td>7.000000</td>\n",
       "      <td>4.000000</td>\n",
       "      <td>9.000000</td>\n",
       "      <td>0.000000</td>\n",
       "      <td>5281.00000</td>\n",
       "      <td>9.051000e+03</td>\n",
       "      <td>625.500000</td>\n",
       "      <td>551.500000</td>\n",
       "      <td>851.000000</td>\n",
       "      <td>6.255500e+03</td>\n",
       "      <td>3417.000000</td>\n",
       "      <td>412.000000</td>\n",
       "      <td>3.00000</td>\n",
       "      <td>101.000000</td>\n",
       "      <td>19.000000</td>\n",
       "      <td>123.500000</td>\n",
       "    </tr>\n",
       "    <tr>\n",
       "      <th>75%</th>\n",
       "      <td>136393.000000</td>\n",
       "      <td>3.000000</td>\n",
       "      <td>10.000000</td>\n",
       "      <td>6.000000</td>\n",
       "      <td>11.000000</td>\n",
       "      <td>1.000000</td>\n",
       "      <td>13168.00000</td>\n",
       "      <td>2.208550e+04</td>\n",
       "      <td>1062.000000</td>\n",
       "      <td>955.500000</td>\n",
       "      <td>1463.000000</td>\n",
       "      <td>1.486050e+04</td>\n",
       "      <td>7989.000000</td>\n",
       "      <td>656.250000</td>\n",
       "      <td>7.00000</td>\n",
       "      <td>187.500000</td>\n",
       "      <td>32.250000</td>\n",
       "      <td>228.500000</td>\n",
       "    </tr>\n",
       "    <tr>\n",
       "      <th>max</th>\n",
       "      <td>139441.000000</td>\n",
       "      <td>3.000000</td>\n",
       "      <td>12.000000</td>\n",
       "      <td>7.000000</td>\n",
       "      <td>23.000000</td>\n",
       "      <td>1.000000</td>\n",
       "      <td>180480.00000</td>\n",
       "      <td>1.110282e+06</td>\n",
       "      <td>11452.000000</td>\n",
       "      <td>11328.000000</td>\n",
       "      <td>19779.000000</td>\n",
       "      <td>1.107833e+06</td>\n",
       "      <td>51456.000000</td>\n",
       "      <td>4376.000000</td>\n",
       "      <td>372.00000</td>\n",
       "      <td>5172.000000</td>\n",
       "      <td>790.000000</td>\n",
       "      <td>6334.000000</td>\n",
       "    </tr>\n",
       "  </tbody>\n",
       "</table>\n",
       "</div>"
      ],
      "text/plain": [
       "       Page total likes    Category  Post Month  Post Weekday   Post Hour  \\\n",
       "count        500.000000  500.000000  500.000000    500.000000  500.000000   \n",
       "mean      123194.176000    1.880000    7.038000      4.150000    7.840000   \n",
       "std        16272.813214    0.852675    3.307936      2.030701    4.368589   \n",
       "min        81370.000000    1.000000    1.000000      1.000000    1.000000   \n",
       "25%       112676.000000    1.000000    4.000000      2.000000    3.000000   \n",
       "50%       129600.000000    2.000000    7.000000      4.000000    9.000000   \n",
       "75%       136393.000000    3.000000   10.000000      6.000000   11.000000   \n",
       "max       139441.000000    3.000000   12.000000      7.000000   23.000000   \n",
       "\n",
       "             Paid  Lifetime Post Total Reach  Lifetime Post Total Impressions  \\\n",
       "count  499.000000                  500.00000                     5.000000e+02   \n",
       "mean     0.278557                13903.36000                     2.958595e+04   \n",
       "std      0.448739                22740.78789                     7.680325e+04   \n",
       "min      0.000000                  238.00000                     5.700000e+02   \n",
       "25%      0.000000                 3315.00000                     5.694750e+03   \n",
       "50%      0.000000                 5281.00000                     9.051000e+03   \n",
       "75%      1.000000                13168.00000                     2.208550e+04   \n",
       "max      1.000000               180480.00000                     1.110282e+06   \n",
       "\n",
       "       Lifetime Engaged Users  Lifetime Post Consumers  \\\n",
       "count              500.000000               500.000000   \n",
       "mean               920.344000               798.772000   \n",
       "std                985.016636               882.505013   \n",
       "min                  9.000000                 9.000000   \n",
       "25%                393.750000               332.500000   \n",
       "50%                625.500000               551.500000   \n",
       "75%               1062.000000               955.500000   \n",
       "max              11452.000000             11328.000000   \n",
       "\n",
       "       Lifetime Post Consumptions  \\\n",
       "count                  500.000000   \n",
       "mean                  1415.130000   \n",
       "std                   2000.594118   \n",
       "min                      9.000000   \n",
       "25%                    509.250000   \n",
       "50%                    851.000000   \n",
       "75%                   1463.000000   \n",
       "max                  19779.000000   \n",
       "\n",
       "       Lifetime Post Impressions by people who have liked your Page  \\\n",
       "count                                       5.000000e+02              \n",
       "mean                                        1.676638e+04              \n",
       "std                                         5.979102e+04              \n",
       "min                                         5.670000e+02              \n",
       "25%                                         3.969750e+03              \n",
       "50%                                         6.255500e+03              \n",
       "75%                                         1.486050e+04              \n",
       "max                                         1.107833e+06              \n",
       "\n",
       "       Lifetime Post reach by people who like your Page  \\\n",
       "count                                        500.000000   \n",
       "mean                                        6585.488000   \n",
       "std                                         7682.009405   \n",
       "min                                          236.000000   \n",
       "25%                                         2181.500000   \n",
       "50%                                         3417.000000   \n",
       "75%                                         7989.000000   \n",
       "max                                        51456.000000   \n",
       "\n",
       "       Lifetime People who have liked your Page and engaged with your post  \\\n",
       "count                                         500.000000                     \n",
       "mean                                          609.986000                     \n",
       "std                                           612.725618                     \n",
       "min                                             9.000000                     \n",
       "25%                                           291.000000                     \n",
       "50%                                           412.000000                     \n",
       "75%                                           656.250000                     \n",
       "max                                          4376.000000                     \n",
       "\n",
       "         comment         like       share  Total Interactions  \n",
       "count  500.00000   499.000000  496.000000          500.000000  \n",
       "mean     7.48200   177.945892   27.266129          212.120000  \n",
       "std     21.18091   323.398742   42.613292          380.233118  \n",
       "min      0.00000     0.000000    0.000000            0.000000  \n",
       "25%      1.00000    56.500000   10.000000           71.000000  \n",
       "50%      3.00000   101.000000   19.000000          123.500000  \n",
       "75%      7.00000   187.500000   32.250000          228.500000  \n",
       "max    372.00000  5172.000000  790.000000         6334.000000  "
      ]
     },
     "execution_count": 15,
     "metadata": {},
     "output_type": "execute_result"
    }
   ],
   "source": [
    "# Your code here\n",
    "facebook_df.describe()"
   ]
  },
  {
   "cell_type": "code",
   "execution_count": 16,
   "metadata": {},
   "outputs": [
    {
     "data": {
      "text/html": [
       "<div>\n",
       "<style scoped>\n",
       "    .dataframe tbody tr th:only-of-type {\n",
       "        vertical-align: middle;\n",
       "    }\n",
       "\n",
       "    .dataframe tbody tr th {\n",
       "        vertical-align: top;\n",
       "    }\n",
       "\n",
       "    .dataframe thead th {\n",
       "        text-align: right;\n",
       "    }\n",
       "</style>\n",
       "<table border=\"1\" class=\"dataframe\">\n",
       "  <thead>\n",
       "    <tr style=\"text-align: right;\">\n",
       "      <th></th>\n",
       "      <th>Type</th>\n",
       "    </tr>\n",
       "  </thead>\n",
       "  <tbody>\n",
       "    <tr>\n",
       "      <th>count</th>\n",
       "      <td>500</td>\n",
       "    </tr>\n",
       "    <tr>\n",
       "      <th>unique</th>\n",
       "      <td>4</td>\n",
       "    </tr>\n",
       "    <tr>\n",
       "      <th>top</th>\n",
       "      <td>Photo</td>\n",
       "    </tr>\n",
       "    <tr>\n",
       "      <th>freq</th>\n",
       "      <td>426</td>\n",
       "    </tr>\n",
       "  </tbody>\n",
       "</table>\n",
       "</div>"
      ],
      "text/plain": [
       "         Type\n",
       "count     500\n",
       "unique      4\n",
       "top     Photo\n",
       "freq      426"
      ]
     },
     "execution_count": 16,
     "metadata": {},
     "output_type": "execute_result"
    }
   ],
   "source": [
    "facebook_df.describe(include='object')"
   ]
  },
  {
   "cell_type": "markdown",
   "metadata": {},
   "source": [
    "What do you notice?\n",
    "- some columns are int when it would be better to have them as strings\n",
    "    - paid, could be boolean instead of int\n",
    "    - catgory stats, are the values keys for something?\n",
    "    - scales are different\n",
    "    - some floats should be int\n",
    "    - outliers/extreme values: 'max' it more than double the '75th percentile'\n"
   ]
  },
  {
   "cell_type": "markdown",
   "metadata": {},
   "source": [
    "## Task 3: Explore null values"
   ]
  },
  {
   "cell_type": "markdown",
   "metadata": {},
   "source": [
    "### 3a: Count how many null values there are in each column\n",
    " "
   ]
  },
  {
   "cell_type": "code",
   "execution_count": 17,
   "metadata": {},
   "outputs": [],
   "source": [
    "# call_on_students(1)"
   ]
  },
  {
   "cell_type": "code",
   "execution_count": 18,
   "metadata": {},
   "outputs": [
    {
     "data": {
      "text/plain": [
       "Page total likes                                                       0\n",
       "Type                                                                   0\n",
       "Category                                                               0\n",
       "Post Month                                                             0\n",
       "Post Weekday                                                           0\n",
       "Post Hour                                                              0\n",
       "Paid                                                                   1\n",
       "Lifetime Post Total Reach                                              0\n",
       "Lifetime Post Total Impressions                                        0\n",
       "Lifetime Engaged Users                                                 0\n",
       "Lifetime Post Consumers                                                0\n",
       "Lifetime Post Consumptions                                             0\n",
       "Lifetime Post Impressions by people who have liked your Page           0\n",
       "Lifetime Post reach by people who like your Page                       0\n",
       "Lifetime People who have liked your Page and engaged with your post    0\n",
       "comment                                                                0\n",
       "like                                                                   1\n",
       "share                                                                  4\n",
       "Total Interactions                                                     0\n",
       "dtype: int64"
      ]
     },
     "execution_count": 18,
     "metadata": {},
     "output_type": "execute_result"
    }
   ],
   "source": [
    "# Your code here\n",
    "facebook_df.isna().sum()"
   ]
  },
  {
   "cell_type": "markdown",
   "metadata": {},
   "source": [
    "### 3b: What are some of the things we could do to deal with null values?\n",
    " "
   ]
  },
  {
   "cell_type": "code",
   "execution_count": 19,
   "metadata": {},
   "outputs": [],
   "source": [
    "# call_on_students(1)"
   ]
  },
  {
   "cell_type": "markdown",
   "metadata": {},
   "source": [
    "Answer:\n",
    "\n",
    "- there are very few, drop the rows where they are\n",
    "    - drop row or column\n",
    "- add revelevant data, mean for like or share\n",
    "- fill in with 'unknown' or 'N/A'\n"
   ]
  },
  {
   "cell_type": "markdown",
   "metadata": {},
   "source": [
    "### 3c: Drop records that have null values in the `share` column"
   ]
  },
  {
   "cell_type": "code",
   "execution_count": 20,
   "metadata": {},
   "outputs": [],
   "source": [
    "# call_on_students(1)"
   ]
  },
  {
   "cell_type": "code",
   "execution_count": 21,
   "metadata": {},
   "outputs": [
    {
     "name": "stdout",
     "output_type": "stream",
     "text": [
      "<class 'pandas.core.frame.DataFrame'>\n",
      "Int64Index: 496 entries, 0 to 499\n",
      "Data columns (total 19 columns):\n",
      " #   Column                                                               Non-Null Count  Dtype  \n",
      "---  ------                                                               --------------  -----  \n",
      " 0   Page total likes                                                     496 non-null    int64  \n",
      " 1   Type                                                                 496 non-null    object \n",
      " 2   Category                                                             496 non-null    int64  \n",
      " 3   Post Month                                                           496 non-null    int64  \n",
      " 4   Post Weekday                                                         496 non-null    int64  \n",
      " 5   Post Hour                                                            496 non-null    int64  \n",
      " 6   Paid                                                                 495 non-null    float64\n",
      " 7   Lifetime Post Total Reach                                            496 non-null    int64  \n",
      " 8   Lifetime Post Total Impressions                                      496 non-null    int64  \n",
      " 9   Lifetime Engaged Users                                               496 non-null    int64  \n",
      " 10  Lifetime Post Consumers                                              496 non-null    int64  \n",
      " 11  Lifetime Post Consumptions                                           496 non-null    int64  \n",
      " 12  Lifetime Post Impressions by people who have liked your Page         496 non-null    int64  \n",
      " 13  Lifetime Post reach by people who like your Page                     496 non-null    int64  \n",
      " 14  Lifetime People who have liked your Page and engaged with your post  496 non-null    int64  \n",
      " 15  comment                                                              496 non-null    int64  \n",
      " 16  like                                                                 496 non-null    float64\n",
      " 17  share                                                                496 non-null    float64\n",
      " 18  Total Interactions                                                   496 non-null    int64  \n",
      "dtypes: float64(3), int64(15), object(1)\n",
      "memory usage: 77.5+ KB\n"
     ]
    }
   ],
   "source": [
    "# Your code here\n",
    "facebook_df = facebook_df.dropna(subset=['share'])\n",
    "facebook_df.info()"
   ]
  },
  {
   "cell_type": "code",
   "execution_count": 22,
   "metadata": {},
   "outputs": [
    {
     "data": {
      "text/plain": [
       "(496, 19)"
      ]
     },
     "execution_count": 22,
     "metadata": {},
     "output_type": "execute_result"
    }
   ],
   "source": [
    "facebook_df.shape"
   ]
  },
  {
   "cell_type": "markdown",
   "metadata": {},
   "source": [
    "## Task 4: Create a column"
   ]
  },
  {
   "cell_type": "markdown",
   "metadata": {},
   "source": [
    "An \"impression\" counts each time a post is displayed.  \n",
    "\n",
    "Create a new column called `likes_per_impression` which divides the number of likes per post by the number of impressions per post."
   ]
  },
  {
   "cell_type": "code",
   "execution_count": 23,
   "metadata": {},
   "outputs": [],
   "source": [
    "# call_on_students(1)"
   ]
  },
  {
   "cell_type": "code",
   "execution_count": 24,
   "metadata": {},
   "outputs": [
    {
     "data": {
      "text/html": [
       "<div>\n",
       "<style scoped>\n",
       "    .dataframe tbody tr th:only-of-type {\n",
       "        vertical-align: middle;\n",
       "    }\n",
       "\n",
       "    .dataframe tbody tr th {\n",
       "        vertical-align: top;\n",
       "    }\n",
       "\n",
       "    .dataframe thead th {\n",
       "        text-align: right;\n",
       "    }\n",
       "</style>\n",
       "<table border=\"1\" class=\"dataframe\">\n",
       "  <thead>\n",
       "    <tr style=\"text-align: right;\">\n",
       "      <th></th>\n",
       "      <th>Page total likes</th>\n",
       "      <th>Type</th>\n",
       "      <th>Category</th>\n",
       "      <th>Post Month</th>\n",
       "      <th>Post Weekday</th>\n",
       "      <th>Post Hour</th>\n",
       "      <th>Paid</th>\n",
       "      <th>Lifetime Post Total Reach</th>\n",
       "      <th>Lifetime Post Total Impressions</th>\n",
       "      <th>Lifetime Engaged Users</th>\n",
       "      <th>Lifetime Post Consumers</th>\n",
       "      <th>Lifetime Post Consumptions</th>\n",
       "      <th>Lifetime Post Impressions by people who have liked your Page</th>\n",
       "      <th>Lifetime Post reach by people who like your Page</th>\n",
       "      <th>Lifetime People who have liked your Page and engaged with your post</th>\n",
       "      <th>comment</th>\n",
       "      <th>like</th>\n",
       "      <th>share</th>\n",
       "      <th>Total Interactions</th>\n",
       "      <th>likes_per_impression</th>\n",
       "    </tr>\n",
       "  </thead>\n",
       "  <tbody>\n",
       "    <tr>\n",
       "      <th>0</th>\n",
       "      <td>139441</td>\n",
       "      <td>Photo</td>\n",
       "      <td>2</td>\n",
       "      <td>12</td>\n",
       "      <td>4</td>\n",
       "      <td>3</td>\n",
       "      <td>0.0</td>\n",
       "      <td>2752</td>\n",
       "      <td>5091</td>\n",
       "      <td>178</td>\n",
       "      <td>109</td>\n",
       "      <td>159</td>\n",
       "      <td>3078</td>\n",
       "      <td>1640</td>\n",
       "      <td>119</td>\n",
       "      <td>4</td>\n",
       "      <td>79.0</td>\n",
       "      <td>17.0</td>\n",
       "      <td>100</td>\n",
       "      <td>0.015518</td>\n",
       "    </tr>\n",
       "    <tr>\n",
       "      <th>1</th>\n",
       "      <td>139441</td>\n",
       "      <td>Status</td>\n",
       "      <td>2</td>\n",
       "      <td>12</td>\n",
       "      <td>3</td>\n",
       "      <td>10</td>\n",
       "      <td>0.0</td>\n",
       "      <td>10460</td>\n",
       "      <td>19057</td>\n",
       "      <td>1457</td>\n",
       "      <td>1361</td>\n",
       "      <td>1674</td>\n",
       "      <td>11710</td>\n",
       "      <td>6112</td>\n",
       "      <td>1108</td>\n",
       "      <td>5</td>\n",
       "      <td>130.0</td>\n",
       "      <td>29.0</td>\n",
       "      <td>164</td>\n",
       "      <td>0.006822</td>\n",
       "    </tr>\n",
       "    <tr>\n",
       "      <th>2</th>\n",
       "      <td>139441</td>\n",
       "      <td>Photo</td>\n",
       "      <td>3</td>\n",
       "      <td>12</td>\n",
       "      <td>3</td>\n",
       "      <td>3</td>\n",
       "      <td>0.0</td>\n",
       "      <td>2413</td>\n",
       "      <td>4373</td>\n",
       "      <td>177</td>\n",
       "      <td>113</td>\n",
       "      <td>154</td>\n",
       "      <td>2812</td>\n",
       "      <td>1503</td>\n",
       "      <td>132</td>\n",
       "      <td>0</td>\n",
       "      <td>66.0</td>\n",
       "      <td>14.0</td>\n",
       "      <td>80</td>\n",
       "      <td>0.015093</td>\n",
       "    </tr>\n",
       "    <tr>\n",
       "      <th>3</th>\n",
       "      <td>139441</td>\n",
       "      <td>Photo</td>\n",
       "      <td>2</td>\n",
       "      <td>12</td>\n",
       "      <td>2</td>\n",
       "      <td>10</td>\n",
       "      <td>1.0</td>\n",
       "      <td>50128</td>\n",
       "      <td>87991</td>\n",
       "      <td>2211</td>\n",
       "      <td>790</td>\n",
       "      <td>1119</td>\n",
       "      <td>61027</td>\n",
       "      <td>32048</td>\n",
       "      <td>1386</td>\n",
       "      <td>58</td>\n",
       "      <td>1572.0</td>\n",
       "      <td>147.0</td>\n",
       "      <td>1777</td>\n",
       "      <td>0.017865</td>\n",
       "    </tr>\n",
       "    <tr>\n",
       "      <th>4</th>\n",
       "      <td>139441</td>\n",
       "      <td>Photo</td>\n",
       "      <td>2</td>\n",
       "      <td>12</td>\n",
       "      <td>2</td>\n",
       "      <td>3</td>\n",
       "      <td>0.0</td>\n",
       "      <td>7244</td>\n",
       "      <td>13594</td>\n",
       "      <td>671</td>\n",
       "      <td>410</td>\n",
       "      <td>580</td>\n",
       "      <td>6228</td>\n",
       "      <td>3200</td>\n",
       "      <td>396</td>\n",
       "      <td>19</td>\n",
       "      <td>325.0</td>\n",
       "      <td>49.0</td>\n",
       "      <td>393</td>\n",
       "      <td>0.023908</td>\n",
       "    </tr>\n",
       "  </tbody>\n",
       "</table>\n",
       "</div>"
      ],
      "text/plain": [
       "   Page total likes    Type  Category  Post Month  Post Weekday  Post Hour  \\\n",
       "0            139441   Photo         2          12             4          3   \n",
       "1            139441  Status         2          12             3         10   \n",
       "2            139441   Photo         3          12             3          3   \n",
       "3            139441   Photo         2          12             2         10   \n",
       "4            139441   Photo         2          12             2          3   \n",
       "\n",
       "   Paid  Lifetime Post Total Reach  Lifetime Post Total Impressions  \\\n",
       "0   0.0                       2752                             5091   \n",
       "1   0.0                      10460                            19057   \n",
       "2   0.0                       2413                             4373   \n",
       "3   1.0                      50128                            87991   \n",
       "4   0.0                       7244                            13594   \n",
       "\n",
       "   Lifetime Engaged Users  Lifetime Post Consumers  \\\n",
       "0                     178                      109   \n",
       "1                    1457                     1361   \n",
       "2                     177                      113   \n",
       "3                    2211                      790   \n",
       "4                     671                      410   \n",
       "\n",
       "   Lifetime Post Consumptions  \\\n",
       "0                         159   \n",
       "1                        1674   \n",
       "2                         154   \n",
       "3                        1119   \n",
       "4                         580   \n",
       "\n",
       "   Lifetime Post Impressions by people who have liked your Page  \\\n",
       "0                                               3078              \n",
       "1                                              11710              \n",
       "2                                               2812              \n",
       "3                                              61027              \n",
       "4                                               6228              \n",
       "\n",
       "   Lifetime Post reach by people who like your Page  \\\n",
       "0                                              1640   \n",
       "1                                              6112   \n",
       "2                                              1503   \n",
       "3                                             32048   \n",
       "4                                              3200   \n",
       "\n",
       "   Lifetime People who have liked your Page and engaged with your post  \\\n",
       "0                                                119                     \n",
       "1                                               1108                     \n",
       "2                                                132                     \n",
       "3                                               1386                     \n",
       "4                                                396                     \n",
       "\n",
       "   comment    like  share  Total Interactions  likes_per_impression  \n",
       "0        4    79.0   17.0                 100              0.015518  \n",
       "1        5   130.0   29.0                 164              0.006822  \n",
       "2        0    66.0   14.0                  80              0.015093  \n",
       "3       58  1572.0  147.0                1777              0.017865  \n",
       "4       19   325.0   49.0                 393              0.023908  "
      ]
     },
     "execution_count": 24,
     "metadata": {},
     "output_type": "execute_result"
    }
   ],
   "source": [
    "# Your code here\n",
    "facebook_df['likes_per_impression'] = facebook_df['like'] / facebook_df['Lifetime Post Total Impressions']\n",
    "\n",
    "facebook_df.head()"
   ]
  },
  {
   "cell_type": "code",
   "execution_count": 25,
   "metadata": {},
   "outputs": [
    {
     "data": {
      "text/plain": [
       "(496, 20)"
      ]
     },
     "execution_count": 25,
     "metadata": {},
     "output_type": "execute_result"
    }
   ],
   "source": [
    "facebook_df.shape"
   ]
  },
  {
   "cell_type": "markdown",
   "metadata": {},
   "source": [
    "## Task 5: Multiply `likes_per_impression` by 100 so they look like percentages"
   ]
  },
  {
   "cell_type": "markdown",
   "metadata": {},
   "source": [
    "Make a new column for this, `likes_per_impression_perc`, to capture this output."
   ]
  },
  {
   "cell_type": "code",
   "execution_count": 26,
   "metadata": {},
   "outputs": [],
   "source": [
    "# call_on_students(1)"
   ]
  },
  {
   "cell_type": "code",
   "execution_count": 27,
   "metadata": {},
   "outputs": [
    {
     "data": {
      "text/html": [
       "<div>\n",
       "<style scoped>\n",
       "    .dataframe tbody tr th:only-of-type {\n",
       "        vertical-align: middle;\n",
       "    }\n",
       "\n",
       "    .dataframe tbody tr th {\n",
       "        vertical-align: top;\n",
       "    }\n",
       "\n",
       "    .dataframe thead th {\n",
       "        text-align: right;\n",
       "    }\n",
       "</style>\n",
       "<table border=\"1\" class=\"dataframe\">\n",
       "  <thead>\n",
       "    <tr style=\"text-align: right;\">\n",
       "      <th></th>\n",
       "      <th>Page total likes</th>\n",
       "      <th>Type</th>\n",
       "      <th>Category</th>\n",
       "      <th>Post Month</th>\n",
       "      <th>Post Weekday</th>\n",
       "      <th>Post Hour</th>\n",
       "      <th>Paid</th>\n",
       "      <th>Lifetime Post Total Reach</th>\n",
       "      <th>Lifetime Post Total Impressions</th>\n",
       "      <th>Lifetime Engaged Users</th>\n",
       "      <th>...</th>\n",
       "      <th>Lifetime Post Consumptions</th>\n",
       "      <th>Lifetime Post Impressions by people who have liked your Page</th>\n",
       "      <th>Lifetime Post reach by people who like your Page</th>\n",
       "      <th>Lifetime People who have liked your Page and engaged with your post</th>\n",
       "      <th>comment</th>\n",
       "      <th>like</th>\n",
       "      <th>share</th>\n",
       "      <th>Total Interactions</th>\n",
       "      <th>likes_per_impression</th>\n",
       "      <th>likes_per_impression_perc</th>\n",
       "    </tr>\n",
       "  </thead>\n",
       "  <tbody>\n",
       "    <tr>\n",
       "      <th>0</th>\n",
       "      <td>139441</td>\n",
       "      <td>Photo</td>\n",
       "      <td>2</td>\n",
       "      <td>12</td>\n",
       "      <td>4</td>\n",
       "      <td>3</td>\n",
       "      <td>0.0</td>\n",
       "      <td>2752</td>\n",
       "      <td>5091</td>\n",
       "      <td>178</td>\n",
       "      <td>...</td>\n",
       "      <td>159</td>\n",
       "      <td>3078</td>\n",
       "      <td>1640</td>\n",
       "      <td>119</td>\n",
       "      <td>4</td>\n",
       "      <td>79.0</td>\n",
       "      <td>17.0</td>\n",
       "      <td>100</td>\n",
       "      <td>0.015518</td>\n",
       "      <td>1.551758</td>\n",
       "    </tr>\n",
       "    <tr>\n",
       "      <th>1</th>\n",
       "      <td>139441</td>\n",
       "      <td>Status</td>\n",
       "      <td>2</td>\n",
       "      <td>12</td>\n",
       "      <td>3</td>\n",
       "      <td>10</td>\n",
       "      <td>0.0</td>\n",
       "      <td>10460</td>\n",
       "      <td>19057</td>\n",
       "      <td>1457</td>\n",
       "      <td>...</td>\n",
       "      <td>1674</td>\n",
       "      <td>11710</td>\n",
       "      <td>6112</td>\n",
       "      <td>1108</td>\n",
       "      <td>5</td>\n",
       "      <td>130.0</td>\n",
       "      <td>29.0</td>\n",
       "      <td>164</td>\n",
       "      <td>0.006822</td>\n",
       "      <td>0.682164</td>\n",
       "    </tr>\n",
       "    <tr>\n",
       "      <th>2</th>\n",
       "      <td>139441</td>\n",
       "      <td>Photo</td>\n",
       "      <td>3</td>\n",
       "      <td>12</td>\n",
       "      <td>3</td>\n",
       "      <td>3</td>\n",
       "      <td>0.0</td>\n",
       "      <td>2413</td>\n",
       "      <td>4373</td>\n",
       "      <td>177</td>\n",
       "      <td>...</td>\n",
       "      <td>154</td>\n",
       "      <td>2812</td>\n",
       "      <td>1503</td>\n",
       "      <td>132</td>\n",
       "      <td>0</td>\n",
       "      <td>66.0</td>\n",
       "      <td>14.0</td>\n",
       "      <td>80</td>\n",
       "      <td>0.015093</td>\n",
       "      <td>1.509261</td>\n",
       "    </tr>\n",
       "    <tr>\n",
       "      <th>3</th>\n",
       "      <td>139441</td>\n",
       "      <td>Photo</td>\n",
       "      <td>2</td>\n",
       "      <td>12</td>\n",
       "      <td>2</td>\n",
       "      <td>10</td>\n",
       "      <td>1.0</td>\n",
       "      <td>50128</td>\n",
       "      <td>87991</td>\n",
       "      <td>2211</td>\n",
       "      <td>...</td>\n",
       "      <td>1119</td>\n",
       "      <td>61027</td>\n",
       "      <td>32048</td>\n",
       "      <td>1386</td>\n",
       "      <td>58</td>\n",
       "      <td>1572.0</td>\n",
       "      <td>147.0</td>\n",
       "      <td>1777</td>\n",
       "      <td>0.017865</td>\n",
       "      <td>1.786546</td>\n",
       "    </tr>\n",
       "    <tr>\n",
       "      <th>4</th>\n",
       "      <td>139441</td>\n",
       "      <td>Photo</td>\n",
       "      <td>2</td>\n",
       "      <td>12</td>\n",
       "      <td>2</td>\n",
       "      <td>3</td>\n",
       "      <td>0.0</td>\n",
       "      <td>7244</td>\n",
       "      <td>13594</td>\n",
       "      <td>671</td>\n",
       "      <td>...</td>\n",
       "      <td>580</td>\n",
       "      <td>6228</td>\n",
       "      <td>3200</td>\n",
       "      <td>396</td>\n",
       "      <td>19</td>\n",
       "      <td>325.0</td>\n",
       "      <td>49.0</td>\n",
       "      <td>393</td>\n",
       "      <td>0.023908</td>\n",
       "      <td>2.390761</td>\n",
       "    </tr>\n",
       "  </tbody>\n",
       "</table>\n",
       "<p>5 rows × 21 columns</p>\n",
       "</div>"
      ],
      "text/plain": [
       "   Page total likes    Type  Category  Post Month  Post Weekday  Post Hour  \\\n",
       "0            139441   Photo         2          12             4          3   \n",
       "1            139441  Status         2          12             3         10   \n",
       "2            139441   Photo         3          12             3          3   \n",
       "3            139441   Photo         2          12             2         10   \n",
       "4            139441   Photo         2          12             2          3   \n",
       "\n",
       "   Paid  Lifetime Post Total Reach  Lifetime Post Total Impressions  \\\n",
       "0   0.0                       2752                             5091   \n",
       "1   0.0                      10460                            19057   \n",
       "2   0.0                       2413                             4373   \n",
       "3   1.0                      50128                            87991   \n",
       "4   0.0                       7244                            13594   \n",
       "\n",
       "   Lifetime Engaged Users  ...  Lifetime Post Consumptions  \\\n",
       "0                     178  ...                         159   \n",
       "1                    1457  ...                        1674   \n",
       "2                     177  ...                         154   \n",
       "3                    2211  ...                        1119   \n",
       "4                     671  ...                         580   \n",
       "\n",
       "   Lifetime Post Impressions by people who have liked your Page  \\\n",
       "0                                               3078              \n",
       "1                                              11710              \n",
       "2                                               2812              \n",
       "3                                              61027              \n",
       "4                                               6228              \n",
       "\n",
       "   Lifetime Post reach by people who like your Page  \\\n",
       "0                                              1640   \n",
       "1                                              6112   \n",
       "2                                              1503   \n",
       "3                                             32048   \n",
       "4                                              3200   \n",
       "\n",
       "   Lifetime People who have liked your Page and engaged with your post  \\\n",
       "0                                                119                     \n",
       "1                                               1108                     \n",
       "2                                                132                     \n",
       "3                                               1386                     \n",
       "4                                                396                     \n",
       "\n",
       "   comment    like  share  Total Interactions  likes_per_impression  \\\n",
       "0        4    79.0   17.0                 100              0.015518   \n",
       "1        5   130.0   29.0                 164              0.006822   \n",
       "2        0    66.0   14.0                  80              0.015093   \n",
       "3       58  1572.0  147.0                1777              0.017865   \n",
       "4       19   325.0   49.0                 393              0.023908   \n",
       "\n",
       "   likes_per_impression_perc  \n",
       "0                   1.551758  \n",
       "1                   0.682164  \n",
       "2                   1.509261  \n",
       "3                   1.786546  \n",
       "4                   2.390761  \n",
       "\n",
       "[5 rows x 21 columns]"
      ]
     },
     "execution_count": 27,
     "metadata": {},
     "output_type": "execute_result"
    }
   ],
   "source": [
    "# Your code here\n",
    "facebook_df['likes_per_impression_perc'] = facebook_df['likes_per_impression'] * 100\n",
    "\n",
    "facebook_df.head()"
   ]
  },
  {
   "cell_type": "code",
   "execution_count": 28,
   "metadata": {},
   "outputs": [
    {
     "data": {
      "text/plain": [
       "(496, 21)"
      ]
     },
     "execution_count": 28,
     "metadata": {},
     "output_type": "execute_result"
    }
   ],
   "source": [
    "facebook_df.shape"
   ]
  },
  {
   "cell_type": "markdown",
   "metadata": {},
   "source": [
    "## Task 6: How many examples of each type of post?"
   ]
  },
  {
   "cell_type": "markdown",
   "metadata": {},
   "source": [
    "I'm seeing a lot of posts with the type of 'Photo' - are there other post types, and what's the breakdown?"
   ]
  },
  {
   "cell_type": "code",
   "execution_count": 29,
   "metadata": {},
   "outputs": [],
   "source": [
    "# call_on_students(1)"
   ]
  },
  {
   "cell_type": "code",
   "execution_count": 30,
   "metadata": {},
   "outputs": [
    {
     "data": {
      "text/plain": [
       "Photo     422\n",
       "Status     45\n",
       "Link       22\n",
       "Video       7\n",
       "Name: Type, dtype: int64"
      ]
     },
     "execution_count": 30,
     "metadata": {},
     "output_type": "execute_result"
    }
   ],
   "source": [
    "# Your code here\n",
    "facebook_df['Type'].value_counts()"
   ]
  },
  {
   "cell_type": "code",
   "execution_count": 31,
   "metadata": {},
   "outputs": [
    {
     "data": {
      "text/plain": [
       "Photo     0.850806\n",
       "Status    0.090726\n",
       "Link      0.044355\n",
       "Video     0.014113\n",
       "Name: Type, dtype: float64"
      ]
     },
     "execution_count": 31,
     "metadata": {},
     "output_type": "execute_result"
    }
   ],
   "source": [
    "# Can also look at the percentages\n",
    "facebook_df['Type'].value_counts(normalize=True)"
   ]
  },
  {
   "cell_type": "markdown",
   "metadata": {},
   "source": [
    "## Task 7: Find the five Photos with the highest likes/impression ratio"
   ]
  },
  {
   "cell_type": "markdown",
   "metadata": {},
   "source": [
    "Find the five **Photos** with the highest number in our new `likes_per_impression_perc` column"
   ]
  },
  {
   "cell_type": "code",
   "execution_count": 32,
   "metadata": {},
   "outputs": [],
   "source": [
    "# call_on_students(1)"
   ]
  },
  {
   "cell_type": "code",
   "execution_count": 33,
   "metadata": {},
   "outputs": [
    {
     "data": {
      "text/html": [
       "<div>\n",
       "<style scoped>\n",
       "    .dataframe tbody tr th:only-of-type {\n",
       "        vertical-align: middle;\n",
       "    }\n",
       "\n",
       "    .dataframe tbody tr th {\n",
       "        vertical-align: top;\n",
       "    }\n",
       "\n",
       "    .dataframe thead th {\n",
       "        text-align: right;\n",
       "    }\n",
       "</style>\n",
       "<table border=\"1\" class=\"dataframe\">\n",
       "  <thead>\n",
       "    <tr style=\"text-align: right;\">\n",
       "      <th></th>\n",
       "      <th>Page total likes</th>\n",
       "      <th>Type</th>\n",
       "      <th>Category</th>\n",
       "      <th>Post Month</th>\n",
       "      <th>Post Weekday</th>\n",
       "      <th>Post Hour</th>\n",
       "      <th>Paid</th>\n",
       "      <th>Lifetime Post Total Reach</th>\n",
       "      <th>Lifetime Post Total Impressions</th>\n",
       "      <th>Lifetime Engaged Users</th>\n",
       "      <th>...</th>\n",
       "      <th>Lifetime Post Consumptions</th>\n",
       "      <th>Lifetime Post Impressions by people who have liked your Page</th>\n",
       "      <th>Lifetime Post reach by people who like your Page</th>\n",
       "      <th>Lifetime People who have liked your Page and engaged with your post</th>\n",
       "      <th>comment</th>\n",
       "      <th>like</th>\n",
       "      <th>share</th>\n",
       "      <th>Total Interactions</th>\n",
       "      <th>likes_per_impression</th>\n",
       "      <th>likes_per_impression_perc</th>\n",
       "    </tr>\n",
       "  </thead>\n",
       "  <tbody>\n",
       "    <tr>\n",
       "      <th>476</th>\n",
       "      <td>86909</td>\n",
       "      <td>Photo</td>\n",
       "      <td>1</td>\n",
       "      <td>1</td>\n",
       "      <td>6</td>\n",
       "      <td>10</td>\n",
       "      <td>1.0</td>\n",
       "      <td>37088</td>\n",
       "      <td>10966</td>\n",
       "      <td>2728</td>\n",
       "      <td>...</td>\n",
       "      <td>3183</td>\n",
       "      <td>66311</td>\n",
       "      <td>34352</td>\n",
       "      <td>2021</td>\n",
       "      <td>7</td>\n",
       "      <td>579.0</td>\n",
       "      <td>47.0</td>\n",
       "      <td>633</td>\n",
       "      <td>0.052800</td>\n",
       "      <td>5.279956</td>\n",
       "    </tr>\n",
       "    <tr>\n",
       "      <th>87</th>\n",
       "      <td>137177</td>\n",
       "      <td>Photo</td>\n",
       "      <td>3</td>\n",
       "      <td>11</td>\n",
       "      <td>3</td>\n",
       "      <td>10</td>\n",
       "      <td>0.0</td>\n",
       "      <td>4012</td>\n",
       "      <td>7955</td>\n",
       "      <td>550</td>\n",
       "      <td>...</td>\n",
       "      <td>477</td>\n",
       "      <td>4625</td>\n",
       "      <td>2218</td>\n",
       "      <td>403</td>\n",
       "      <td>3</td>\n",
       "      <td>270.0</td>\n",
       "      <td>38.0</td>\n",
       "      <td>311</td>\n",
       "      <td>0.033941</td>\n",
       "      <td>3.394092</td>\n",
       "    </tr>\n",
       "    <tr>\n",
       "      <th>161</th>\n",
       "      <td>135617</td>\n",
       "      <td>Photo</td>\n",
       "      <td>2</td>\n",
       "      <td>9</td>\n",
       "      <td>7</td>\n",
       "      <td>3</td>\n",
       "      <td>0.0</td>\n",
       "      <td>3992</td>\n",
       "      <td>7255</td>\n",
       "      <td>598</td>\n",
       "      <td>...</td>\n",
       "      <td>688</td>\n",
       "      <td>4428</td>\n",
       "      <td>2420</td>\n",
       "      <td>435</td>\n",
       "      <td>6</td>\n",
       "      <td>244.0</td>\n",
       "      <td>32.0</td>\n",
       "      <td>282</td>\n",
       "      <td>0.033632</td>\n",
       "      <td>3.363198</td>\n",
       "    </tr>\n",
       "    <tr>\n",
       "      <th>81</th>\n",
       "      <td>137177</td>\n",
       "      <td>Photo</td>\n",
       "      <td>3</td>\n",
       "      <td>11</td>\n",
       "      <td>6</td>\n",
       "      <td>10</td>\n",
       "      <td>0.0</td>\n",
       "      <td>5990</td>\n",
       "      <td>11123</td>\n",
       "      <td>657</td>\n",
       "      <td>...</td>\n",
       "      <td>512</td>\n",
       "      <td>5057</td>\n",
       "      <td>2628</td>\n",
       "      <td>428</td>\n",
       "      <td>18</td>\n",
       "      <td>370.0</td>\n",
       "      <td>53.0</td>\n",
       "      <td>441</td>\n",
       "      <td>0.033264</td>\n",
       "      <td>3.326441</td>\n",
       "    </tr>\n",
       "    <tr>\n",
       "      <th>92</th>\n",
       "      <td>137059</td>\n",
       "      <td>Photo</td>\n",
       "      <td>3</td>\n",
       "      <td>11</td>\n",
       "      <td>1</td>\n",
       "      <td>3</td>\n",
       "      <td>0.0</td>\n",
       "      <td>4732</td>\n",
       "      <td>9303</td>\n",
       "      <td>607</td>\n",
       "      <td>...</td>\n",
       "      <td>518</td>\n",
       "      <td>6201</td>\n",
       "      <td>3136</td>\n",
       "      <td>445</td>\n",
       "      <td>9</td>\n",
       "      <td>301.0</td>\n",
       "      <td>32.0</td>\n",
       "      <td>342</td>\n",
       "      <td>0.032355</td>\n",
       "      <td>3.235515</td>\n",
       "    </tr>\n",
       "    <tr>\n",
       "      <th>...</th>\n",
       "      <td>...</td>\n",
       "      <td>...</td>\n",
       "      <td>...</td>\n",
       "      <td>...</td>\n",
       "      <td>...</td>\n",
       "      <td>...</td>\n",
       "      <td>...</td>\n",
       "      <td>...</td>\n",
       "      <td>...</td>\n",
       "      <td>...</td>\n",
       "      <td>...</td>\n",
       "      <td>...</td>\n",
       "      <td>...</td>\n",
       "      <td>...</td>\n",
       "      <td>...</td>\n",
       "      <td>...</td>\n",
       "      <td>...</td>\n",
       "      <td>...</td>\n",
       "      <td>...</td>\n",
       "      <td>...</td>\n",
       "      <td>...</td>\n",
       "    </tr>\n",
       "    <tr>\n",
       "      <th>100</th>\n",
       "      <td>137020</td>\n",
       "      <td>Photo</td>\n",
       "      <td>1</td>\n",
       "      <td>10</td>\n",
       "      <td>4</td>\n",
       "      <td>9</td>\n",
       "      <td>1.0</td>\n",
       "      <td>1357</td>\n",
       "      <td>2453</td>\n",
       "      <td>37</td>\n",
       "      <td>...</td>\n",
       "      <td>55</td>\n",
       "      <td>2154</td>\n",
       "      <td>1120</td>\n",
       "      <td>32</td>\n",
       "      <td>0</td>\n",
       "      <td>0.0</td>\n",
       "      <td>0.0</td>\n",
       "      <td>0</td>\n",
       "      <td>0.000000</td>\n",
       "      <td>0.000000</td>\n",
       "    </tr>\n",
       "    <tr>\n",
       "      <th>76</th>\n",
       "      <td>137893</td>\n",
       "      <td>Photo</td>\n",
       "      <td>1</td>\n",
       "      <td>11</td>\n",
       "      <td>3</td>\n",
       "      <td>2</td>\n",
       "      <td>0.0</td>\n",
       "      <td>1228</td>\n",
       "      <td>2392</td>\n",
       "      <td>17</td>\n",
       "      <td>...</td>\n",
       "      <td>19</td>\n",
       "      <td>2392</td>\n",
       "      <td>1228</td>\n",
       "      <td>17</td>\n",
       "      <td>0</td>\n",
       "      <td>0.0</td>\n",
       "      <td>0.0</td>\n",
       "      <td>0</td>\n",
       "      <td>0.000000</td>\n",
       "      <td>0.000000</td>\n",
       "    </tr>\n",
       "    <tr>\n",
       "      <th>21</th>\n",
       "      <td>138414</td>\n",
       "      <td>Photo</td>\n",
       "      <td>1</td>\n",
       "      <td>12</td>\n",
       "      <td>7</td>\n",
       "      <td>10</td>\n",
       "      <td>0.0</td>\n",
       "      <td>1384</td>\n",
       "      <td>2467</td>\n",
       "      <td>15</td>\n",
       "      <td>...</td>\n",
       "      <td>20</td>\n",
       "      <td>2196</td>\n",
       "      <td>1172</td>\n",
       "      <td>15</td>\n",
       "      <td>0</td>\n",
       "      <td>0.0</td>\n",
       "      <td>0.0</td>\n",
       "      <td>0</td>\n",
       "      <td>0.000000</td>\n",
       "      <td>0.000000</td>\n",
       "    </tr>\n",
       "    <tr>\n",
       "      <th>441</th>\n",
       "      <td>98195</td>\n",
       "      <td>Photo</td>\n",
       "      <td>1</td>\n",
       "      <td>3</td>\n",
       "      <td>5</td>\n",
       "      <td>4</td>\n",
       "      <td>1.0</td>\n",
       "      <td>1845</td>\n",
       "      <td>2670</td>\n",
       "      <td>9</td>\n",
       "      <td>...</td>\n",
       "      <td>9</td>\n",
       "      <td>1614</td>\n",
       "      <td>1008</td>\n",
       "      <td>9</td>\n",
       "      <td>0</td>\n",
       "      <td>0.0</td>\n",
       "      <td>0.0</td>\n",
       "      <td>0</td>\n",
       "      <td>0.000000</td>\n",
       "      <td>0.000000</td>\n",
       "    </tr>\n",
       "    <tr>\n",
       "      <th>417</th>\n",
       "      <td>104070</td>\n",
       "      <td>Photo</td>\n",
       "      <td>1</td>\n",
       "      <td>3</td>\n",
       "      <td>3</td>\n",
       "      <td>10</td>\n",
       "      <td>0.0</td>\n",
       "      <td>1874</td>\n",
       "      <td>2474</td>\n",
       "      <td>25</td>\n",
       "      <td>...</td>\n",
       "      <td>31</td>\n",
       "      <td>1483</td>\n",
       "      <td>1062</td>\n",
       "      <td>15</td>\n",
       "      <td>0</td>\n",
       "      <td>0.0</td>\n",
       "      <td>0.0</td>\n",
       "      <td>0</td>\n",
       "      <td>0.000000</td>\n",
       "      <td>0.000000</td>\n",
       "    </tr>\n",
       "  </tbody>\n",
       "</table>\n",
       "<p>422 rows × 21 columns</p>\n",
       "</div>"
      ],
      "text/plain": [
       "     Page total likes   Type  Category  Post Month  Post Weekday  Post Hour  \\\n",
       "476             86909  Photo         1           1             6         10   \n",
       "87             137177  Photo         3          11             3         10   \n",
       "161            135617  Photo         2           9             7          3   \n",
       "81             137177  Photo         3          11             6         10   \n",
       "92             137059  Photo         3          11             1          3   \n",
       "..                ...    ...       ...         ...           ...        ...   \n",
       "100            137020  Photo         1          10             4          9   \n",
       "76             137893  Photo         1          11             3          2   \n",
       "21             138414  Photo         1          12             7         10   \n",
       "441             98195  Photo         1           3             5          4   \n",
       "417            104070  Photo         1           3             3         10   \n",
       "\n",
       "     Paid  Lifetime Post Total Reach  Lifetime Post Total Impressions  \\\n",
       "476   1.0                      37088                            10966   \n",
       "87    0.0                       4012                             7955   \n",
       "161   0.0                       3992                             7255   \n",
       "81    0.0                       5990                            11123   \n",
       "92    0.0                       4732                             9303   \n",
       "..    ...                        ...                              ...   \n",
       "100   1.0                       1357                             2453   \n",
       "76    0.0                       1228                             2392   \n",
       "21    0.0                       1384                             2467   \n",
       "441   1.0                       1845                             2670   \n",
       "417   0.0                       1874                             2474   \n",
       "\n",
       "     Lifetime Engaged Users  ...  Lifetime Post Consumptions  \\\n",
       "476                    2728  ...                        3183   \n",
       "87                      550  ...                         477   \n",
       "161                     598  ...                         688   \n",
       "81                      657  ...                         512   \n",
       "92                      607  ...                         518   \n",
       "..                      ...  ...                         ...   \n",
       "100                      37  ...                          55   \n",
       "76                       17  ...                          19   \n",
       "21                       15  ...                          20   \n",
       "441                       9  ...                           9   \n",
       "417                      25  ...                          31   \n",
       "\n",
       "     Lifetime Post Impressions by people who have liked your Page  \\\n",
       "476                                              66311              \n",
       "87                                                4625              \n",
       "161                                               4428              \n",
       "81                                                5057              \n",
       "92                                                6201              \n",
       "..                                                 ...              \n",
       "100                                               2154              \n",
       "76                                                2392              \n",
       "21                                                2196              \n",
       "441                                               1614              \n",
       "417                                               1483              \n",
       "\n",
       "     Lifetime Post reach by people who like your Page  \\\n",
       "476                                             34352   \n",
       "87                                               2218   \n",
       "161                                              2420   \n",
       "81                                               2628   \n",
       "92                                               3136   \n",
       "..                                                ...   \n",
       "100                                              1120   \n",
       "76                                               1228   \n",
       "21                                               1172   \n",
       "441                                              1008   \n",
       "417                                              1062   \n",
       "\n",
       "     Lifetime People who have liked your Page and engaged with your post  \\\n",
       "476                                               2021                     \n",
       "87                                                 403                     \n",
       "161                                                435                     \n",
       "81                                                 428                     \n",
       "92                                                 445                     \n",
       "..                                                 ...                     \n",
       "100                                                 32                     \n",
       "76                                                  17                     \n",
       "21                                                  15                     \n",
       "441                                                  9                     \n",
       "417                                                 15                     \n",
       "\n",
       "     comment   like  share  Total Interactions  likes_per_impression  \\\n",
       "476        7  579.0   47.0                 633              0.052800   \n",
       "87         3  270.0   38.0                 311              0.033941   \n",
       "161        6  244.0   32.0                 282              0.033632   \n",
       "81        18  370.0   53.0                 441              0.033264   \n",
       "92         9  301.0   32.0                 342              0.032355   \n",
       "..       ...    ...    ...                 ...                   ...   \n",
       "100        0    0.0    0.0                   0              0.000000   \n",
       "76         0    0.0    0.0                   0              0.000000   \n",
       "21         0    0.0    0.0                   0              0.000000   \n",
       "441        0    0.0    0.0                   0              0.000000   \n",
       "417        0    0.0    0.0                   0              0.000000   \n",
       "\n",
       "     likes_per_impression_perc  \n",
       "476                   5.279956  \n",
       "87                    3.394092  \n",
       "161                   3.363198  \n",
       "81                    3.326441  \n",
       "92                    3.235515  \n",
       "..                         ...  \n",
       "100                   0.000000  \n",
       "76                    0.000000  \n",
       "21                    0.000000  \n",
       "441                   0.000000  \n",
       "417                   0.000000  \n",
       "\n",
       "[422 rows x 21 columns]"
      ]
     },
     "execution_count": 33,
     "metadata": {},
     "output_type": "execute_result"
    }
   ],
   "source": [
    "# Your code here\n",
    "top_5 = facebook_df.loc[facebook_df['Type'] == 'Photo'].sort_values(by='likes_per_impression_perc', ascending=False)\n",
    "top_5"
   ]
  },
  {
   "cell_type": "markdown",
   "metadata": {},
   "source": [
    "## Task 8: Find the most liked Photo"
   ]
  },
  {
   "cell_type": "markdown",
   "metadata": {},
   "source": [
    "Locate the **Photo** that has the largest amount of likes in the `like` column"
   ]
  },
  {
   "cell_type": "code",
   "execution_count": 34,
   "metadata": {},
   "outputs": [],
   "source": [
    "# call_on_students(1)"
   ]
  },
  {
   "cell_type": "code",
   "execution_count": 36,
   "metadata": {},
   "outputs": [
    {
     "data": {
      "text/html": [
       "<div>\n",
       "<style scoped>\n",
       "    .dataframe tbody tr th:only-of-type {\n",
       "        vertical-align: middle;\n",
       "    }\n",
       "\n",
       "    .dataframe tbody tr th {\n",
       "        vertical-align: top;\n",
       "    }\n",
       "\n",
       "    .dataframe thead th {\n",
       "        text-align: right;\n",
       "    }\n",
       "</style>\n",
       "<table border=\"1\" class=\"dataframe\">\n",
       "  <thead>\n",
       "    <tr style=\"text-align: right;\">\n",
       "      <th></th>\n",
       "      <th>Page total likes</th>\n",
       "      <th>Type</th>\n",
       "      <th>Category</th>\n",
       "      <th>Post Month</th>\n",
       "      <th>Post Weekday</th>\n",
       "      <th>Post Hour</th>\n",
       "      <th>Paid</th>\n",
       "      <th>Lifetime Post Total Reach</th>\n",
       "      <th>Lifetime Post Total Impressions</th>\n",
       "      <th>Lifetime Engaged Users</th>\n",
       "      <th>...</th>\n",
       "      <th>Lifetime Post Consumptions</th>\n",
       "      <th>Lifetime Post Impressions by people who have liked your Page</th>\n",
       "      <th>Lifetime Post reach by people who like your Page</th>\n",
       "      <th>Lifetime People who have liked your Page and engaged with your post</th>\n",
       "      <th>comment</th>\n",
       "      <th>like</th>\n",
       "      <th>share</th>\n",
       "      <th>Total Interactions</th>\n",
       "      <th>likes_per_impression</th>\n",
       "      <th>likes_per_impression_perc</th>\n",
       "    </tr>\n",
       "  </thead>\n",
       "  <tbody>\n",
       "    <tr>\n",
       "      <th>244</th>\n",
       "      <td>130791</td>\n",
       "      <td>Photo</td>\n",
       "      <td>2</td>\n",
       "      <td>7</td>\n",
       "      <td>3</td>\n",
       "      <td>5</td>\n",
       "      <td>1.0</td>\n",
       "      <td>180480</td>\n",
       "      <td>319133</td>\n",
       "      <td>8072</td>\n",
       "      <td>...</td>\n",
       "      <td>6242</td>\n",
       "      <td>108752</td>\n",
       "      <td>51456</td>\n",
       "      <td>3316</td>\n",
       "      <td>372</td>\n",
       "      <td>5172.0</td>\n",
       "      <td>790.0</td>\n",
       "      <td>6334</td>\n",
       "      <td>0.016206</td>\n",
       "      <td>1.620641</td>\n",
       "    </tr>\n",
       "  </tbody>\n",
       "</table>\n",
       "<p>1 rows × 21 columns</p>\n",
       "</div>"
      ],
      "text/plain": [
       "     Page total likes   Type  Category  Post Month  Post Weekday  Post Hour  \\\n",
       "244            130791  Photo         2           7             3          5   \n",
       "\n",
       "     Paid  Lifetime Post Total Reach  Lifetime Post Total Impressions  \\\n",
       "244   1.0                     180480                           319133   \n",
       "\n",
       "     Lifetime Engaged Users  ...  Lifetime Post Consumptions  \\\n",
       "244                    8072  ...                        6242   \n",
       "\n",
       "     Lifetime Post Impressions by people who have liked your Page  \\\n",
       "244                                             108752              \n",
       "\n",
       "     Lifetime Post reach by people who like your Page  \\\n",
       "244                                             51456   \n",
       "\n",
       "     Lifetime People who have liked your Page and engaged with your post  \\\n",
       "244                                               3316                     \n",
       "\n",
       "     comment    like  share  Total Interactions  likes_per_impression  \\\n",
       "244      372  5172.0  790.0                6334              0.016206   \n",
       "\n",
       "     likes_per_impression_perc  \n",
       "244                   1.620641  \n",
       "\n",
       "[1 rows x 21 columns]"
      ]
     },
     "execution_count": 36,
     "metadata": {},
     "output_type": "execute_result"
    }
   ],
   "source": [
    "top_1_likes = facebook_df.loc[facebook_df['Type'] == 'Photo'].sort_values(by='like', ascending=False)\n",
    "top_1_likes.head(1)"
   ]
  },
  {
   "cell_type": "markdown",
   "metadata": {},
   "source": [
    "## Task 9: Find the average\n",
    "\n",
    "What is the mean number of Total Interactions for **Photos**?"
   ]
  },
  {
   "cell_type": "code",
   "execution_count": 37,
   "metadata": {},
   "outputs": [],
   "source": [
    "# call_on_students(1)"
   ]
  },
  {
   "cell_type": "code",
   "execution_count": 38,
   "metadata": {},
   "outputs": [
    {
     "data": {
      "text/plain": [
       "218.56872037914692"
      ]
     },
     "execution_count": 38,
     "metadata": {},
     "output_type": "execute_result"
    }
   ],
   "source": [
    "# Your code here\n",
    "facebook_df.loc[facebook_df['Type'] == \"Photo\"]['Total Interactions'].mean()"
   ]
  },
  {
   "cell_type": "markdown",
   "metadata": {},
   "source": [
    "<a id='viz'></a>\n",
    "# Part 2: Visualization"
   ]
  },
  {
   "cell_type": "code",
   "execution_count": 39,
   "metadata": {},
   "outputs": [],
   "source": [
    "# Need more imports!\n",
    "import matplotlib.pyplot as plt\n",
    "%matplotlib inline"
   ]
  },
  {
   "cell_type": "markdown",
   "metadata": {},
   "source": [
    "## Task 10: Bar Chart\n",
    "\n",
    "Create a bar chart showing the number of posts per month.\n",
    "\n",
    "Order the x-axis by month as they appear on the calendar.\n",
    "\n",
    "Don't forget to add labels and a title.  \n",
    "\n",
    "Use the `plt.subplot` method if you can, but if you can't, resort to the `plt` syntax."
   ]
  },
  {
   "cell_type": "code",
   "execution_count": 40,
   "metadata": {},
   "outputs": [],
   "source": [
    "# call_on_students(1)"
   ]
  },
  {
   "cell_type": "code",
   "execution_count": 136,
   "metadata": {},
   "outputs": [
    {
     "name": "stdout",
     "output_type": "stream",
     "text": [
      "Int64Index([1, 2, 3, 4, 5, 6, 7, 8, 9, 10, 11, 12], dtype='int64')\n",
      "[25 26 36 50 37 49 52 34 35 57 45 50]\n"
     ]
    }
   ],
   "source": [
    "# Your code here\n",
    "# First need to access the number of posts per month\n",
    "month = facebook_df['Post Month'].value_counts().sort_index().index\n",
    "\n",
    "counts = facebook_df['Post Month'].value_counts().sort_index().values\n",
    "\n",
    "print(month)\n",
    "print(counts)"
   ]
  },
  {
   "cell_type": "code",
   "execution_count": 137,
   "metadata": {},
   "outputs": [
    {
     "data": {
      "image/png": "[encoded data removed]",
      "text/plain": [
       "<Figure size 432x288 with 1 Axes>"
      ]
     },
     "metadata": {
      "needs_background": "light"
     },
     "output_type": "display_data"
    }
   ],
   "source": [
    "# Your code here\n",
    "# Now need to visualize\n",
    "fig, ax = plt.subplots()\n",
    "\n",
    "ax.bar(x=month , height=counts)\n",
    "\n",
    "ax.set_title('Number of Post per Month')\n",
    "ax.set_xlabel('Month')\n",
    "ax.set_ylabel('Number of Posts')\n",
    "\n",
    "ax.set_xticks(range(1,13))\n",
    "ax.set_xticklabels(['Jan','Feb','Mar', 'Apr', 'May', 'Jun', 'Jul', 'Aug', 'Sep',\n",
    "                  'Oct', 'Nov', 'Dec'])\n",
    "\n",
    "plt.xticks(rotation=45);"
   ]
  },
  {
   "cell_type": "markdown",
   "metadata": {},
   "source": [
    "Let's discuss: what do you notice?\n",
    "\n",
    "- there is no pattern\n"
   ]
  },
  {
   "cell_type": "markdown",
   "metadata": {},
   "source": [
    "## Task 11: Scatter Plot\n",
    "\n",
    "Create a scatter plot that shows the correlation between total interactions and likes."
   ]
  },
  {
   "cell_type": "code",
   "execution_count": 43,
   "metadata": {},
   "outputs": [],
   "source": [
    "# call_on_students(1)"
   ]
  },
  {
   "cell_type": "code",
   "execution_count": 44,
   "metadata": {},
   "outputs": [
    {
     "data": {
      "text/plain": [
       "Index(['Page total likes', 'Type', 'Category', 'Post Month', 'Post Weekday',\n",
       "       'Post Hour', 'Paid', 'Lifetime Post Total Reach',\n",
       "       'Lifetime Post Total Impressions', 'Lifetime Engaged Users',\n",
       "       'Lifetime Post Consumers', 'Lifetime Post Consumptions',\n",
       "       'Lifetime Post Impressions by people who have liked your Page',\n",
       "       'Lifetime Post reach by people who like your Page',\n",
       "       'Lifetime People who have liked your Page and engaged with your post',\n",
       "       'comment', 'like', 'share', 'Total Interactions',\n",
       "       'likes_per_impression', 'likes_per_impression_perc'],\n",
       "      dtype='object')"
      ]
     },
     "execution_count": 44,
     "metadata": {},
     "output_type": "execute_result"
    }
   ],
   "source": [
    "facebook_df.columns"
   ]
  },
  {
   "cell_type": "code",
   "execution_count": 105,
   "metadata": {},
   "outputs": [
    {
     "data": {
      "image/png": "[encoded data removed]",
      "text/plain": [
       "<Figure size 432x288 with 1 Axes>"
      ]
     },
     "metadata": {
      "needs_background": "light"
     },
     "output_type": "display_data"
    }
   ],
   "source": [
    "# Your code here\n",
    "fig, ax = plt.subplots()\n",
    "\n",
    "ax.scatter(x=facebook_df['Total Interactions'] , y=facebook_df['like'])\n",
    "ax.set_xlabel('Total Number of Interactions')\n",
    "ax.set_ylabel('Total Number of Likes')\n",
    "ax.set_title('Correlation Between Total Interactions and Likes');"
   ]
  },
  {
   "cell_type": "markdown",
   "metadata": {},
   "source": [
    "Let's discuss: what do you notice?\n",
    "\n",
    "- strong positive correlation\n",
    "- outlier clearly shown \n"
   ]
  },
  {
   "cell_type": "markdown",
   "metadata": {},
   "source": [
    "<a id='datastructures'></a>\n",
    "# Part 3: Data Structures"
   ]
  },
  {
   "cell_type": "markdown",
   "metadata": {},
   "source": [
    "For this next section, we will explore a nested dictionary that comes from the Spotify API.  You won't need to do these kinds of imports and opens on the code challenge, so I'll go ahead and share the code to get started here.\n",
    "\n",
    "The `data` variable below contains 6 separate pings, each of which returns a list of the top 20 songs streamed on a given day.\n"
   ]
  },
  {
   "cell_type": "code",
   "execution_count": 47,
   "metadata": {},
   "outputs": [],
   "source": [
    "# First we need some imports\n",
    "import json\n",
    "import pickle"
   ]
  },
  {
   "cell_type": "code",
   "execution_count": 48,
   "metadata": {},
   "outputs": [],
   "source": [
    "# Let's open the pickled file\n",
    "with open('data/offset_newreleases.p','rb') as read_file:\n",
    "    responses = pickle.load(read_file)"
   ]
  },
  {
   "cell_type": "code",
   "execution_count": 52,
   "metadata": {},
   "outputs": [],
   "source": [
    "data = [json.loads(r) for r in responses]"
   ]
  },
  {
   "cell_type": "code",
   "execution_count": 53,
   "metadata": {},
   "outputs": [
    {
     "data": {
      "text/plain": [
       "6"
      ]
     },
     "execution_count": 53,
     "metadata": {},
     "output_type": "execute_result"
    }
   ],
   "source": [
    "# Sanity check - we said there would be 6 pings, are there?\n",
    "len(data)"
   ]
  },
  {
   "cell_type": "markdown",
   "metadata": {},
   "source": [
    "We will work only with the first response."
   ]
  },
  {
   "cell_type": "code",
   "execution_count": 71,
   "metadata": {},
   "outputs": [],
   "source": [
    "first_response = data[0]"
   ]
  },
  {
   "cell_type": "markdown",
   "metadata": {},
   "source": [
    "## Task 12: Navigate the dictionary"
   ]
  },
  {
   "cell_type": "markdown",
   "metadata": {},
   "source": [
    "Explore the `first_response` dictionary and find how to access the items list, which contains the details about the twenty songs. Assign the list to the variable `first_twenty_songs`.\n",
    "\n",
    "Hint: print out the keys at each level with .keys()."
   ]
  },
  {
   "cell_type": "code",
   "execution_count": null,
   "metadata": {},
   "outputs": [],
   "source": [
    "# call_on_students(1)"
   ]
  },
  {
   "cell_type": "code",
   "execution_count": 75,
   "metadata": {},
   "outputs": [
    {
     "data": {
      "text/plain": [
       "dict_keys(['href', 'items', 'limit', 'next', 'offset', 'previous', 'total'])"
      ]
     },
     "execution_count": 75,
     "metadata": {},
     "output_type": "execute_result"
    }
   ],
   "source": [
    "# Your code here\n",
    "first_response['albums'].keys()"
   ]
  },
  {
   "cell_type": "code",
   "execution_count": 93,
   "metadata": {
    "scrolled": true
   },
   "outputs": [
    {
     "data": {
      "text/plain": [
       "{'album_type': 'single',\n",
       " 'artists': [{'external_urls': {'spotify': 'https://open.spotify.com/artist/7CajNmpbOovFoOoasH2HaY'},\n",
       "   'href': 'https://api.spotify.com/v1/artists/7CajNmpbOovFoOoasH2HaY',\n",
       "   'id': '7CajNmpbOovFoOoasH2HaY',\n",
       "   'name': 'Calvin Harris',\n",
       "   'type': 'artist',\n",
       "   'uri': 'spotify:artist:7CajNmpbOovFoOoasH2HaY'},\n",
       "  {'external_urls': {'spotify': 'https://open.spotify.com/artist/1Xyo4u8uXC1ZmMpatF05PJ'},\n",
       "   'href': 'https://api.spotify.com/v1/artists/1Xyo4u8uXC1ZmMpatF05PJ',\n",
       "   'id': '1Xyo4u8uXC1ZmMpatF05PJ',\n",
       "   'name': 'The Weeknd',\n",
       "   'type': 'artist',\n",
       "   'uri': 'spotify:artist:1Xyo4u8uXC1ZmMpatF05PJ'}],\n",
       " 'available_markets': ['AD',\n",
       "  'AE',\n",
       "  'AL',\n",
       "  'AR',\n",
       "  'AT',\n",
       "  'AU',\n",
       "  'BA',\n",
       "  'BE',\n",
       "  'BG',\n",
       "  'BH',\n",
       "  'BO',\n",
       "  'BR',\n",
       "  'BY',\n",
       "  'CA',\n",
       "  'CH',\n",
       "  'CL',\n",
       "  'CO',\n",
       "  'CR',\n",
       "  'CY',\n",
       "  'CZ',\n",
       "  'DE',\n",
       "  'DK',\n",
       "  'DO',\n",
       "  'DZ',\n",
       "  'EC',\n",
       "  'EE',\n",
       "  'EG',\n",
       "  'ES',\n",
       "  'FI',\n",
       "  'FR',\n",
       "  'GB',\n",
       "  'GR',\n",
       "  'GT',\n",
       "  'HK',\n",
       "  'HN',\n",
       "  'HR',\n",
       "  'HU',\n",
       "  'ID',\n",
       "  'IE',\n",
       "  'IL',\n",
       "  'IN',\n",
       "  'IS',\n",
       "  'IT',\n",
       "  'JO',\n",
       "  'JP',\n",
       "  'KW',\n",
       "  'KZ',\n",
       "  'LB',\n",
       "  'LI',\n",
       "  'LT',\n",
       "  'LU',\n",
       "  'LV',\n",
       "  'MA',\n",
       "  'MC',\n",
       "  'MD',\n",
       "  'ME',\n",
       "  'MK',\n",
       "  'MT',\n",
       "  'MX',\n",
       "  'MY',\n",
       "  'NI',\n",
       "  'NL',\n",
       "  'NO',\n",
       "  'NZ',\n",
       "  'OM',\n",
       "  'PA',\n",
       "  'PE',\n",
       "  'PH',\n",
       "  'PL',\n",
       "  'PS',\n",
       "  'PT',\n",
       "  'PY',\n",
       "  'QA',\n",
       "  'RO',\n",
       "  'RS',\n",
       "  'RU',\n",
       "  'SA',\n",
       "  'SE',\n",
       "  'SG',\n",
       "  'SI',\n",
       "  'SK',\n",
       "  'SV',\n",
       "  'TH',\n",
       "  'TN',\n",
       "  'TR',\n",
       "  'TW',\n",
       "  'UA',\n",
       "  'US',\n",
       "  'UY',\n",
       "  'VN',\n",
       "  'XK',\n",
       "  'ZA'],\n",
       " 'external_urls': {'spotify': 'https://open.spotify.com/album/3GPiefSRSOxqTrgKJIB7RL'},\n",
       " 'href': 'https://api.spotify.com/v1/albums/3GPiefSRSOxqTrgKJIB7RL',\n",
       " 'id': '3GPiefSRSOxqTrgKJIB7RL',\n",
       " 'images': [{'height': 640,\n",
       "   'url': 'https://i.scdn.co/image/ab67616d0000b273e5e19455ff5f76c58048bea8',\n",
       "   'width': 640},\n",
       "  {'height': 300,\n",
       "   'url': 'https://i.scdn.co/image/ab67616d00001e02e5e19455ff5f76c58048bea8',\n",
       "   'width': 300},\n",
       "  {'height': 64,\n",
       "   'url': 'https://i.scdn.co/image/ab67616d00004851e5e19455ff5f76c58048bea8',\n",
       "   'width': 64}],\n",
       " 'name': 'Over Now (with The Weeknd)',\n",
       " 'release_date': '2020-08-28',\n",
       " 'release_date_precision': 'day',\n",
       " 'total_tracks': 1,\n",
       " 'type': 'album',\n",
       " 'uri': 'spotify:album:3GPiefSRSOxqTrgKJIB7RL'}"
      ]
     },
     "execution_count": 93,
     "metadata": {},
     "output_type": "execute_result"
    }
   ],
   "source": [
    "first_response['albums']['items'][0]"
   ]
  },
  {
   "cell_type": "code",
   "execution_count": 95,
   "metadata": {},
   "outputs": [],
   "source": [
    "first_twenty_songs = first_response['albums']['items']"
   ]
  },
  {
   "cell_type": "code",
   "execution_count": 123,
   "metadata": {},
   "outputs": [
    {
     "data": {
      "text/plain": [
       "dict_keys(['album_type', 'artists', 'available_markets', 'external_urls', 'href', 'id', 'images', 'name', 'release_date', 'release_date_precision', 'total_tracks', 'type', 'uri'])"
      ]
     },
     "execution_count": 123,
     "metadata": {},
     "output_type": "execute_result"
    }
   ],
   "source": [
    "first_twenty_songs[0].keys()"
   ]
  },
  {
   "cell_type": "code",
   "execution_count": 131,
   "metadata": {},
   "outputs": [
    {
     "data": {
      "text/plain": [
       "[{'external_urls': {'spotify': 'https://open.spotify.com/artist/7CajNmpbOovFoOoasH2HaY'},\n",
       "  'href': 'https://api.spotify.com/v1/artists/7CajNmpbOovFoOoasH2HaY',\n",
       "  'id': '7CajNmpbOovFoOoasH2HaY',\n",
       "  'name': 'Calvin Harris',\n",
       "  'type': 'artist',\n",
       "  'uri': 'spotify:artist:7CajNmpbOovFoOoasH2HaY'},\n",
       " {'external_urls': {'spotify': 'https://open.spotify.com/artist/1Xyo4u8uXC1ZmMpatF05PJ'},\n",
       "  'href': 'https://api.spotify.com/v1/artists/1Xyo4u8uXC1ZmMpatF05PJ',\n",
       "  'id': '1Xyo4u8uXC1ZmMpatF05PJ',\n",
       "  'name': 'The Weeknd',\n",
       "  'type': 'artist',\n",
       "  'uri': 'spotify:artist:1Xyo4u8uXC1ZmMpatF05PJ'}]"
      ]
     },
     "execution_count": 131,
     "metadata": {},
     "output_type": "execute_result"
    }
   ],
   "source": [
    "first_twenty_songs[0]['artists']"
   ]
  },
  {
   "cell_type": "code",
   "execution_count": 140,
   "metadata": {},
   "outputs": [],
   "source": [
    "# easier to view\n",
    "twenty_songs = pd.DataFrame(first_twenty_songs)"
   ]
  },
  {
   "cell_type": "code",
   "execution_count": 148,
   "metadata": {},
   "outputs": [
    {
     "name": "stdout",
     "output_type": "stream",
     "text": [
      "<class 'pandas.core.frame.DataFrame'>\n",
      "RangeIndex: 20 entries, 0 to 19\n",
      "Data columns (total 13 columns):\n",
      " #   Column                  Non-Null Count  Dtype \n",
      "---  ------                  --------------  ----- \n",
      " 0   album_type              20 non-null     object\n",
      " 1   artists                 20 non-null     object\n",
      " 2   available_markets       20 non-null     object\n",
      " 3   external_urls           20 non-null     object\n",
      " 4   href                    20 non-null     object\n",
      " 5   id                      20 non-null     object\n",
      " 6   images                  20 non-null     object\n",
      " 7   name                    20 non-null     object\n",
      " 8   release_date            20 non-null     object\n",
      " 9   release_date_precision  20 non-null     object\n",
      " 10  total_tracks            20 non-null     int64 \n",
      " 11  type                    20 non-null     object\n",
      " 12  uri                     20 non-null     object\n",
      "dtypes: int64(1), object(12)\n",
      "memory usage: 2.2+ KB\n"
     ]
    }
   ],
   "source": [
    "twenty_songs.info()"
   ]
  },
  {
   "cell_type": "markdown",
   "metadata": {},
   "source": [
    "## Task 13: Loop to List"
   ]
  },
  {
   "cell_type": "markdown",
   "metadata": {},
   "source": [
    "Create a list of **track names** of all twenty songs using a for loop or list comprehension."
   ]
  },
  {
   "cell_type": "code",
   "execution_count": null,
   "metadata": {},
   "outputs": [],
   "source": [
    "# call_on_students(1)"
   ]
  },
  {
   "cell_type": "code",
   "execution_count": 151,
   "metadata": {},
   "outputs": [
    {
     "data": {
      "text/plain": [
       "array(['Over Now (with The Weeknd)', 'Ice Cream (with Selena Gomez)',\n",
       "       'Smile', 'ENERGY (Deluxe)', 'Spotify Singles', 'B4 The Storm',\n",
       "       'CTV3: Cool Tape Vol. 3', 'Starting Over',\n",
       "       'No Ceilings (feat. Lil Wayne & Jay Gwuapo)',\n",
       "       'Why Do You Lie To Me', 'Deep Reverence', 'Una Niña Inútil',\n",
       "       'Celia', 'conversations with myself about you', 'Whole New Mess',\n",
       "       'Renaissance', 'Higher Place', 'rue', 'Tumbleweed', '1999'],\n",
       "      dtype=object)"
      ]
     },
     "execution_count": 151,
     "metadata": {},
     "output_type": "execute_result"
    }
   ],
   "source": [
    "track_n = twenty_songs['name'].values\n",
    "track_n"
   ]
  },
  {
   "cell_type": "code",
   "execution_count": 146,
   "metadata": {},
   "outputs": [
    {
     "data": {
      "text/plain": [
       "['Over Now (with The Weeknd)',\n",
       " 'Ice Cream (with Selena Gomez)',\n",
       " 'Smile',\n",
       " 'ENERGY (Deluxe)',\n",
       " 'Spotify Singles',\n",
       " 'B4 The Storm',\n",
       " 'CTV3: Cool Tape Vol. 3',\n",
       " 'Starting Over',\n",
       " 'No Ceilings (feat. Lil Wayne & Jay Gwuapo)',\n",
       " 'Why Do You Lie To Me',\n",
       " 'Deep Reverence',\n",
       " 'Una Niña Inútil',\n",
       " 'Celia',\n",
       " 'conversations with myself about you',\n",
       " 'Whole New Mess',\n",
       " 'Renaissance',\n",
       " 'Higher Place',\n",
       " 'rue',\n",
       " 'Tumbleweed',\n",
       " '1999']"
      ]
     },
     "execution_count": 146,
     "metadata": {},
     "output_type": "execute_result"
    }
   ],
   "source": [
    "# Your code here\n",
    "track_names= [record['name'] for record in first_twenty_songs]\n",
    "\n",
    "track_names\n"
   ]
  },
  {
   "cell_type": "code",
   "execution_count": 112,
   "metadata": {},
   "outputs": [
    {
     "data": {
      "text/plain": [
       "['Over Now (with The Weeknd)',\n",
       " 'Ice Cream (with Selena Gomez)',\n",
       " 'Smile',\n",
       " 'ENERGY (Deluxe)',\n",
       " 'Spotify Singles',\n",
       " 'B4 The Storm',\n",
       " 'CTV3: Cool Tape Vol. 3',\n",
       " 'Starting Over',\n",
       " 'No Ceilings (feat. Lil Wayne & Jay Gwuapo)',\n",
       " 'Why Do You Lie To Me',\n",
       " 'Deep Reverence',\n",
       " 'Una Niña Inútil',\n",
       " 'Celia',\n",
       " 'conversations with myself about you',\n",
       " 'Whole New Mess',\n",
       " 'Renaissance',\n",
       " 'Higher Place',\n",
       " 'rue',\n",
       " 'Tumbleweed',\n",
       " '1999']"
      ]
     },
     "execution_count": 112,
     "metadata": {},
     "output_type": "execute_result"
    }
   ],
   "source": [
    "tracks_names_2 = []\n",
    "\n",
    "for record in first_twenty_songs:\n",
    "    tracks_names_2.append(record['name'])\n",
    "\n",
    "tracks_names_2"
   ]
  },
  {
   "cell_type": "markdown",
   "metadata": {},
   "source": [
    "## Task 14: Create a new dictionary"
   ]
  },
  {
   "cell_type": "markdown",
   "metadata": {},
   "source": [
    "Create a dictionary called `song_dictionary` which consists of each track name `string` as a key and a `tuple` of artists associated with each track as a value."
   ]
  },
  {
   "cell_type": "code",
   "execution_count": null,
   "metadata": {},
   "outputs": [],
   "source": [
    "# call_on_students(1)"
   ]
  },
  {
   "cell_type": "code",
   "execution_count": 132,
   "metadata": {},
   "outputs": [],
   "source": [
    "# Your code here:\n",
    "song_dictionary = {}\n",
    "for song in first_twenty_songs:\n",
    "    artist_list = []\n",
    "    for artist in song['artists']:\n",
    "        artist_list.append(artist['name'])\n",
    "    song_dictionary[song['name']] = tuple(artist_list)"
   ]
  },
  {
   "cell_type": "code",
   "execution_count": 135,
   "metadata": {},
   "outputs": [
    {
     "data": {
      "text/plain": [
       "{'Over Now (with The Weeknd)': ('Calvin Harris', 'The Weeknd'),\n",
       " 'Ice Cream (with Selena Gomez)': ('BLACKPINK', 'Selena Gomez'),\n",
       " 'Smile': ('Katy Perry',),\n",
       " 'ENERGY (Deluxe)': ('Disclosure',),\n",
       " 'Spotify Singles': ('Giveon',),\n",
       " 'B4 The Storm': ('Internet Money',),\n",
       " 'CTV3: Cool Tape Vol. 3': ('Jaden',),\n",
       " 'Starting Over': ('Chris Stapleton',),\n",
       " 'No Ceilings (feat. Lil Wayne & Jay Gwuapo)': ('A$AP Ferg',),\n",
       " 'Why Do You Lie To Me': ('Topic', 'A7S'),\n",
       " 'Deep Reverence': ('Big Sean', 'Nipsey Hussle'),\n",
       " 'Una Niña Inútil': ('Cazzu',),\n",
       " 'Celia': ('Tiwa Savage',),\n",
       " 'conversations with myself about you': ('lovelytheband',),\n",
       " 'Whole New Mess': ('Angel Olsen',),\n",
       " 'Renaissance': ('Aluna',),\n",
       " 'Higher Place': ('Skip Marley',),\n",
       " 'rue': ('girl in red',),\n",
       " 'Tumbleweed': ('Keith Urban',),\n",
       " '1999': ('Rich Brian',)}"
      ]
     },
     "execution_count": 135,
     "metadata": {},
     "output_type": "execute_result"
    }
   ],
   "source": [
    "song_dictionary"
   ]
  },
  {
   "cell_type": "markdown",
   "metadata": {},
   "source": [
    "## Task 15: Write a function"
   ]
  },
  {
   "cell_type": "markdown",
   "metadata": {},
   "source": [
    "Create a function with takes an **artist name** and the **song_dictionary** as arguments, and returns a `list` of songs written by that artist. "
   ]
  },
  {
   "cell_type": "code",
   "execution_count": null,
   "metadata": {},
   "outputs": [],
   "source": [
    "# call_on_students(1)"
   ]
  },
  {
   "cell_type": "code",
   "execution_count": 144,
   "metadata": {},
   "outputs": [
    {
     "data": {
      "text/plain": [
       "['Over Now (with The Weeknd)']"
      ]
     },
     "execution_count": 144,
     "metadata": {},
     "output_type": "execute_result"
    }
   ],
   "source": [
    "# Easier to do things outside of a function first\n",
    "# Let's try for The Weeknd\n",
    "song_list = []\n",
    "\n",
    "for song in song_dictionary:\n",
    "    if \"The Weeknd\" in song_dictionary[song]:\n",
    "        song_list.append(song)\n",
    "        \n",
    "song_list    "
   ]
  },
  {
   "cell_type": "code",
   "execution_count": 145,
   "metadata": {},
   "outputs": [],
   "source": [
    "# Your code here\n",
    "\n",
    "def find_song_by_artist(artist_name, song_dict):\n",
    "    \n",
    "    '''\n",
    "    Parameters:\n",
    "    arist_name: a string of an artist's name to be used to search the dictionary\n",
    "    song_dict:  a dictionary of top_twenty songs with song name as keys and a list of \n",
    "    artist names as values\n",
    "    \n",
    "    Returns:\n",
    "    A list of songs which the given artist appeared on\n",
    "    '''\n",
    "    song_list = []\n",
    "    for song in song_dictionary:\n",
    "        if artist_name in song_dict[song]:\n",
    "            song_list.append(song)\n",
    "    return song_list"
   ]
  },
  {
   "cell_type": "code",
   "execution_count": 149,
   "metadata": {},
   "outputs": [
    {
     "data": {
      "text/plain": [
       "['Deep Reverence']"
      ]
     },
     "execution_count": 149,
     "metadata": {},
     "output_type": "execute_result"
    }
   ],
   "source": [
    "# Test the function:\n",
    "find_song_by_artist('Big Sean', song_dictionary)"
   ]
  },
  {
   "cell_type": "code",
   "execution_count": null,
   "metadata": {},
   "outputs": [],
   "source": []
  }
 ],
 "metadata": {
  "kernelspec": {
   "display_name": "Python (learn-env)",
   "language": "python",
   "name": "learn-env"
  },
  "language_info": {
   "codemirror_mode": {
    "name": "ipython",
    "version": 3
   },
   "file_extension": ".py",
   "mimetype": "text/x-python",
   "name": "python",
   "nbconvert_exporter": "python",
   "pygments_lexer": "ipython3",
   "version": "3.8.5"
  }
 },
 "nbformat": 4,
 "nbformat_minor": 4
}
